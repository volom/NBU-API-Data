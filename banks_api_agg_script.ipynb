{
 "cells": [
  {
   "cell_type": "markdown",
   "metadata": {},
   "source": [
    "## LOAD LIBRARIES"
   ]
  },
  {
   "cell_type": "code",
   "execution_count": 6,
   "metadata": {},
   "outputs": [],
   "source": [
    "import os\n",
    "import pandas as pd\n",
    "import re\n",
    "import json\n",
    "import openpyxl\n",
    "\n",
    "import requests\n",
    "import time"
   ]
  },
  {
   "cell_type": "markdown",
   "metadata": {},
   "source": [
    "## ІФС (Індекс фінансового стресу) | FSI (Financial Stress Index)"
   ]
  },
  {
   "cell_type": "code",
   "execution_count": 13,
   "metadata": {},
   "outputs": [],
   "source": [
    "r = requests.get(\"https://bank.gov.ua/ua/stability/fsi#:~:text=%D0%86%D0%BD%D0%B4%D0%B5%D0%BA%D1%81%20%D1%84%D1%96%D0%BD%D0%B0%D0%BD%D1%81%D0%BE%D0%B2%D0%BE%D0%B3%D0%BE%20%D1%81%D1%82%D1%80%D0%B5%D1%81%D1%83%20(%D0%86%D0%A4%D0%A1)%20%E2%80%93,%D0%BD%D0%B5%20%D0%B2%D0%BA%D0%B0%D0%B7%D1%83%D1%94%20%D0%BD%D0%B0%20%D0%BC%D0%B0%D0%B9%D0%B1%D1%83%D1%82%D0%BD%D1%96%20%D1%80%D0%B8%D0%B7%D0%B8%D0%BA%D0%B8.\")\n",
    "fsi_pd = pd.DataFrame(json.loads(re.search(r'JSON\\.parse\\(\\'(.*?)\\'\\)', r.text).group(1)))\n",
    "fsi_pd.columns = ['date', 'fsi']\n",
    "fsi_pd.to_csv('./raw data/fsi_index.csv', index=False)"
   ]
  },
  {
   "cell_type": "markdown",
   "metadata": {},
   "source": [
    "https://bank.gov.ua/ua/open-data/api-dev"
   ]
  },
  {
   "cell_type": "markdown",
   "metadata": {},
   "source": [
    "## 6. Довідник державних цінних паперів"
   ]
  },
  {
   "cell_type": "code",
   "execution_count": null,
   "metadata": {},
   "outputs": [],
   "source": []
  },
  {
   "cell_type": "code",
   "execution_count": null,
   "metadata": {},
   "outputs": [],
   "source": []
  },
  {
   "cell_type": "code",
   "execution_count": null,
   "metadata": {},
   "outputs": [],
   "source": []
  },
  {
   "cell_type": "code",
   "execution_count": null,
   "metadata": {},
   "outputs": [],
   "source": []
  },
  {
   "cell_type": "markdown",
   "metadata": {},
   "source": [
    "## 7. Кредити, надані депозитними корпораціями"
   ]
  },
  {
   "cell_type": "code",
   "execution_count": null,
   "metadata": {},
   "outputs": [],
   "source": [
    "# generate range of dates for api process\n",
    "\n",
    "start_date = pd.Timestamp('20160901')\n",
    "today = pd.Timestamp.today()\n",
    "\n",
    "month_diff = (today.year - start_date.year) * 12 + today.month - start_date.month\n",
    "periods_list = pd.date_range(start='20160901', periods=month_diff, freq='MS').strftime('%Y%m%d').tolist()"
   ]
  },
  {
   "cell_type": "code",
   "execution_count": null,
   "metadata": {},
   "outputs": [],
   "source": [
    "df_all = pd.DataFrame()\n",
    "for m in periods_list:\n",
    "    dr = requests.get(f'https://bank.gov.ua/NBUStatService/v1/statdirectory/loan?date={m}&json')\n",
    "    dr = pd.DataFrame(dr.json())\n",
    "    df_all = pd.concat([df_all, dr])\n",
    "    print(m)\n",
    "    time.sleep(3)\n",
    "df_all.to_csv('./raw data/loans.csv', index=False)"
   ]
  },
  {
   "cell_type": "code",
   "execution_count": null,
   "metadata": {},
   "outputs": [],
   "source": [
    "# donwload raw data\n",
    "\n",
    "loans_downloaded = pd.read_csv('./raw data/loans.csv')\n",
    "\n",
    "periods_list = list(set(periods_list) - set(loans_downloaded['dt'].astype(str).drop_duplicates()))\n",
    "\n",
    "print(f\"Absent periods - {len(periods_list)}\")\n",
    "\n",
    "if len(periods_list) >0:\n",
    "    df_all = pd.DataFrame()\n",
    "    for m in periods_list:\n",
    "        dr = requests.get(f'https://bank.gov.ua/NBUStatService/v1/statdirectory/loan?date={m}&json')\n",
    "        dr = pd.DataFrame(dr.json())\n",
    "        df_all = pd.concat([df_all, dr])\n",
    "        print(m)\n",
    "        time.sleep(3)\n",
    "    df_all = pd.concat([df_all, loans_downloaded])\n",
    "    df_all.to_csv('./raw data/loans.csv', index=False)"
   ]
  },
  {
   "cell_type": "code",
   "execution_count": null,
   "metadata": {},
   "outputs": [],
   "source": [
    "# donwload aggregated data\n",
    "\n",
    "pd.pivot_table(loans_downloaded, index='dt', columns='txt', values='value', aggfunc='sum').reset_index().to_csv('./agg data/loans_agg.csv')"
   ]
  },
  {
   "cell_type": "markdown",
   "metadata": {},
   "source": [
    "## 8. Депозити, залучені депозитними корпораціями"
   ]
  },
  {
   "cell_type": "code",
   "execution_count": null,
   "metadata": {},
   "outputs": [],
   "source": [
    "# generate range of dates for api process\n",
    "\n",
    "start_date = pd.Timestamp('20160901')\n",
    "today = pd.Timestamp.today()\n",
    "\n",
    "month_diff = (today.year - start_date.year) * 12 + today.month - start_date.month\n",
    "periods_list = pd.date_range(start='20160901', periods=month_diff, freq='MS').strftime('%Y%m%d').tolist()"
   ]
  },
  {
   "cell_type": "code",
   "execution_count": null,
   "metadata": {},
   "outputs": [],
   "source": [
    "df_all = pd.DataFrame()\n",
    "for m in periods_list:\n",
    "    dr = requests.get(f'https://bank.gov.ua/NBUStatService/v1/statdirectory/deposit?date={m}&json')\n",
    "    dr = pd.DataFrame(dr.json())\n",
    "    df_all = pd.concat([df_all, dr])\n",
    "    print(m)\n",
    "    time.sleep(3)\n",
    "df_all.to_csv('./raw data/deposits.csv', index=False)"
   ]
  },
  {
   "cell_type": "code",
   "execution_count": null,
   "metadata": {},
   "outputs": [],
   "source": [
    "# donwload raw data\n",
    "\n",
    "deposits_downloaded = pd.read_csv('./raw data/deposits.csv')\n",
    "\n",
    "periods_list = list(set(periods_list) - set(deposits_downloaded['dt'].astype(str).drop_duplicates()))\n",
    "\n",
    "print(f\"Absent periods - {len(periods_list)}\")\n",
    "\n",
    "if len(periods_list) >0:\n",
    "    df_all = pd.DataFrame()\n",
    "    for m in periods_list:\n",
    "        dr = requests.get(f'https://bank.gov.ua/NBUStatService/v1/statdirectory/deposit?date={m}&json')\n",
    "        dr = pd.DataFrame(dr.json())\n",
    "        df_all = pd.concat([df_all, dr])\n",
    "        print(m)\n",
    "        time.sleep(3)\n",
    "    df_all = pd.concat([df_all, deposits_downloaded])\n",
    "    df_all.to_csv('./raw data/deposits.csv', index=False)"
   ]
  },
  {
   "cell_type": "code",
   "execution_count": null,
   "metadata": {},
   "outputs": [],
   "source": [
    "# donwload aggregated data\n",
    "\n",
    "pd.pivot_table(deposits_downloaded, index='dt', columns='txt', values='value', aggfunc='sum').reset_index().to_csv('./agg data/deposits_agg.csv')"
   ]
  },
  {
   "cell_type": "markdown",
   "metadata": {},
   "source": [
    "## 9. Цінні папери, акції та інші форми участі в капіталі в портфелі депозитних корпорацій (крім Національного банку України), та цінні папери, крім акцій, випущені депозитними корпораціями (крім Національного банку України)"
   ]
  },
  {
   "cell_type": "code",
   "execution_count": null,
   "metadata": {},
   "outputs": [],
   "source": [
    "# generate range of dates for api process\n",
    "\n",
    "start_date = pd.Timestamp('20160901')\n",
    "today = pd.Timestamp.today()\n",
    "\n",
    "month_diff = (today.year - start_date.year) * 12 + today.month - start_date.month\n",
    "periods_list = pd.date_range(start='20160901', periods=month_diff, freq='MS').strftime('%Y%m%d').tolist()"
   ]
  },
  {
   "cell_type": "code",
   "execution_count": null,
   "metadata": {},
   "outputs": [],
   "source": [
    "df_all = pd.DataFrame()\n",
    "for m in periods_list:\n",
    "    dr = requests.get(f'https://bank.gov.ua/NBUStatService/v1/statdirectory/securities?date={m}&json')\n",
    "    dr = pd.DataFrame(dr.json())\n",
    "    df_all = pd.concat([df_all, dr])\n",
    "    print(m)\n",
    "    time.sleep(3)\n",
    "df_all.to_csv('./raw data/secr.csv', index=False)"
   ]
  },
  {
   "cell_type": "code",
   "execution_count": null,
   "metadata": {},
   "outputs": [],
   "source": [
    "# donwload raw data\n",
    "\n",
    "secr_downloaded = pd.read_csv('./raw data/secr.csv')\n",
    "\n",
    "periods_list = list(set(periods_list) - set(secr_downloaded['dt'].astype(str).drop_duplicates()))\n",
    "\n",
    "print(f\"Absent periods - {len(periods_list)}\")\n",
    "\n",
    "if len(periods_list) >0:\n",
    "    df_all = pd.DataFrame()\n",
    "    for m in periods_list:\n",
    "        dr = requests.get(f'https://bank.gov.ua/NBUStatService/v1/statdirectory/securities?date={m}&json')\n",
    "        dr = pd.DataFrame(dr.json())\n",
    "        df_all = pd.concat([df_all, dr])\n",
    "        print(m)\n",
    "        time.sleep(3)\n",
    "    df_all = pd.concat([df_all, secr_downloaded])\n",
    "    df_all.to_csv('./raw data/secr.csv', index=False)"
   ]
  },
  {
   "cell_type": "code",
   "execution_count": null,
   "metadata": {},
   "outputs": [],
   "source": [
    "# donwload aggregated data\n",
    "\n",
    "pd.pivot_table(secr_downloaded, index='dt', columns='txt', values='value', aggfunc='sum').reset_index().to_csv('./agg data/secr_agg.csv')"
   ]
  },
  {
   "cell_type": "markdown",
   "metadata": {},
   "source": [
    "## 10. Процентні ставки депозитних корпорацій (крім Національного банку України) за новими кредитами та новими депозитами"
   ]
  },
  {
   "cell_type": "code",
   "execution_count": 28,
   "metadata": {},
   "outputs": [],
   "source": [
    "# generate range of dates for api process\n",
    "\n",
    "start_date = pd.Timestamp('20160901')\n",
    "today = pd.Timestamp.today()\n",
    "\n",
    "month_diff = (today.year - start_date.year) * 12 + today.month - start_date.month\n",
    "periods_list = pd.date_range(start='20160901', periods=month_diff, freq='MS').strftime('%Y%m%d').tolist()"
   ]
  },
  {
   "cell_type": "code",
   "execution_count": 29,
   "metadata": {},
   "outputs": [
    {
     "name": "stdout",
     "output_type": "stream",
     "text": [
      "20160901\n",
      "20161001\n",
      "20161101\n",
      "20161201\n",
      "20170101\n",
      "20170201\n",
      "20170301\n",
      "20170401\n",
      "20170501\n",
      "20170601\n",
      "20170701\n",
      "20170801\n",
      "20170901\n",
      "20171001\n",
      "20171101\n",
      "20171201\n",
      "20180101\n",
      "20180201\n",
      "20180301\n",
      "20180401\n",
      "20180501\n",
      "20180601\n",
      "20180701\n",
      "20180801\n",
      "20180901\n",
      "20181001\n",
      "20181101\n",
      "20181201\n",
      "20190101\n",
      "20190201\n",
      "20190301\n",
      "20190401\n",
      "20190501\n",
      "20190601\n",
      "20190701\n",
      "20190801\n",
      "20190901\n",
      "20191001\n",
      "20191101\n",
      "20191201\n",
      "20200101\n",
      "20200201\n",
      "20200301\n",
      "20200401\n",
      "20200501\n",
      "20200601\n",
      "20200701\n",
      "20200801\n",
      "20200901\n",
      "20201001\n",
      "20201101\n",
      "20201201\n",
      "20210101\n",
      "20210201\n",
      "20210301\n",
      "20210401\n",
      "20210501\n",
      "20210601\n",
      "20210701\n",
      "20210801\n",
      "20210901\n",
      "20211001\n"
     ]
    }
   ],
   "source": [
    "df_all = pd.DataFrame()\n",
    "for m in periods_list:\n",
    "    dr = requests.get(f'https://bank.gov.ua/NBUStatService/v1/statdirectory/mir?date={m}&json')\n",
    "    dr = pd.DataFrame(dr.json())\n",
    "    df_all = pd.concat([df_all, dr])\n",
    "    print(m)\n",
    "    time.sleep(3)\n",
    "df_all.to_csv('./raw data/dep_rates.csv', index=False)"
   ]
  },
  {
   "cell_type": "code",
   "execution_count": null,
   "metadata": {},
   "outputs": [],
   "source": [
    "# donwload raw data\n",
    "\n",
    "dep_rates_downloaded = pd.read_csv('./raw data/dep_rates.csv')\n",
    "\n",
    "periods_list = list(set(periods_list) - set(dep_rates_downloaded['dt'].astype(str).drop_duplicates()))\n",
    "\n",
    "print(f\"Absent periods - {len(periods_list)}\")\n",
    "\n",
    "if len(periods_list) >0:\n",
    "    df_all = pd.DataFrame()\n",
    "    for m in periods_list:\n",
    "        dr = requests.get(f'https://bank.gov.ua/NBUStatService/v1/statdirectory/mir?date={m}&json')\n",
    "        dr = pd.DataFrame(dr.json())\n",
    "        df_all = pd.concat([df_all, dr])\n",
    "        print(m)\n",
    "        time.sleep(3)\n",
    "    df_all = pd.concat([df_all, dep_rates_downloaded])\n",
    "    df_all.to_csv('./raw data/dep_rates.csv', index=False)"
   ]
  },
  {
   "cell_type": "code",
   "execution_count": null,
   "metadata": {},
   "outputs": [],
   "source": [
    "# donwload aggregated data\n",
    "\n",
    "pd.pivot_table(dep_rates_downloaded, index='dt', columns='txt', values='value', aggfunc='sum').reset_index().to_csv('./agg data/dept_rates_agg.csv')"
   ]
  },
  {
   "cell_type": "markdown",
   "metadata": {},
   "source": [
    "## 11. Доходи та витрати банків"
   ]
  },
  {
   "cell_type": "code",
   "execution_count": 23,
   "metadata": {},
   "outputs": [],
   "source": [
    "# generate range of dates for api process\n",
    "\n",
    "start_date = pd.Timestamp('20090201')\n",
    "today = pd.Timestamp.today()\n",
    "\n",
    "month_diff = (today.year - start_date.year) * 12 + today.month - start_date.month\n",
    "periods_list = pd.date_range(start='20090201', periods=month_diff, freq='MS').strftime('%Y%m%d').tolist()"
   ]
  },
  {
   "cell_type": "code",
   "execution_count": 25,
   "metadata": {},
   "outputs": [
    {
     "name": "stdout",
     "output_type": "stream",
     "text": [
      "Absent periods - 0\n"
     ]
    }
   ],
   "source": [
    "# donwload raw data\n",
    "\n",
    "rev_downloaded = pd.read_csv('./raw data/banks_rev.csv')\n",
    "\n",
    "periods_list = list(set(periods_list) - set(rev_downloaded['dt'].astype(str).drop_duplicates()))\n",
    "\n",
    "print(f\"Absent periods - {len(periods_list)}\")\n",
    "\n",
    "if len(periods_list) >0:\n",
    "    df_all = pd.DataFrame()\n",
    "    for m in periods_list:\n",
    "        rev = requests.get(f'https://bank.gov.ua/NBUStatService/v1/statdirectory/banksincexp?date={m}&period=m&json')\n",
    "        df_rev = pd.DataFrame(rev.json())\n",
    "        df_all = pd.concat([df_all, df_rev])\n",
    "        print(m)\n",
    "        time.sleep(3)\n",
    "    df_all = pd.concat([df_all, rev_downloaded])\n",
    "    df_all.to_csv('./raw data/banks_rev.csv', index=False)"
   ]
  },
  {
   "cell_type": "code",
   "execution_count": 27,
   "metadata": {},
   "outputs": [],
   "source": [
    "# donwload aggregated data\n",
    "\n",
    "pd.pivot_table(rev_downloaded, index='dt', columns='txt', values='value', aggfunc='sum').reset_index().to_csv('./agg data/banks_rev_agg.csv')"
   ]
  },
  {
   "cell_type": "markdown",
   "metadata": {},
   "source": [
    "## 12. Основні показники діяльності банків України"
   ]
  },
  {
   "cell_type": "code",
   "execution_count": 14,
   "metadata": {},
   "outputs": [],
   "source": [
    "# generate range of dates for api process\n",
    "\n",
    "start_date = pd.Timestamp('20160101')\n",
    "today = pd.Timestamp.today()\n",
    "\n",
    "month_diff = (today.year - start_date.year) * 12 + today.month - start_date.month\n",
    "periods_list = pd.date_range(start='20160101', periods=month_diff, freq='MS').strftime('%Y%m%d').tolist()"
   ]
  },
  {
   "cell_type": "code",
   "execution_count": 21,
   "metadata": {},
   "outputs": [
    {
     "name": "stdout",
     "output_type": "stream",
     "text": [
      "Absent periods - 0\n"
     ]
    }
   ],
   "source": [
    "# donwload raw data\n",
    "\n",
    "mm_downloaded = pd.read_csv('./raw data/main_metrics.csv')\n",
    "\n",
    "periods_list = list(set(periods_list) - set(mm_downloaded['dt'].astype(str).drop_duplicates()))\n",
    "\n",
    "print(f\"Absent periods - {len(periods_list)}\")\n",
    "\n",
    "if len(periods_list) >0:\n",
    "    df_all = pd.DataFrame()\n",
    "    for m in periods_list:\n",
    "        mm = requests.get(f'https://bank.gov.ua/NBUStatService/v1/statdirectory/basindbank?date={m}&period=m&json')\n",
    "        df_mm = pd.DataFrame(mm.json())\n",
    "        df_all = pd.concat([df_all, df_mm])\n",
    "        print(m)\n",
    "        time.sleep(3)\n",
    "    df_all = pd.concat([df_all, mm_downloaded])\n",
    "    df_all.to_csv('./raw data/main_metrics.csv', index=False)"
   ]
  },
  {
   "cell_type": "code",
   "execution_count": 22,
   "metadata": {},
   "outputs": [],
   "source": [
    "# donwload aggregated data\n",
    "\n",
    "pd.pivot_table(mm_downloaded, index='dt', columns='txt', values='value', aggfunc='sum').reset_index().to_csv('./agg data/main_metrics_agg.csv')"
   ]
  },
  {
   "cell_type": "markdown",
   "metadata": {},
   "source": [
    "## 13. Дані фінансової звітності/згруповані балансові залишки банків України"
   ]
  },
  {
   "cell_type": "code",
   "execution_count": 2,
   "metadata": {},
   "outputs": [],
   "source": [
    "# generate range of dates for api process\n",
    "\n",
    "start_date = pd.Timestamp('20180201')\n",
    "today = pd.Timestamp.today()\n",
    "\n",
    "month_diff = (today.year - start_date.year) * 12 + today.month - start_date.month\n",
    "periods_list = pd.date_range(start='20180201', periods=month_diff, freq='MS').strftime('%Y%m%d').tolist()"
   ]
  },
  {
   "cell_type": "code",
   "execution_count": 3,
   "metadata": {},
   "outputs": [
    {
     "name": "stdout",
     "output_type": "stream",
     "text": [
      "Absent periods - 0\n"
     ]
    }
   ],
   "source": [
    "# donwload raw data\n",
    "\n",
    "balances_downloaded = pd.read_csv('./raw data/balances.csv')\n",
    "\n",
    "periods_list = list(set(periods_list) - set(balances_downloaded['dt'].astype(str).drop_duplicates()))\n",
    "\n",
    "print(f\"Absent periods - {len(periods_list)}\")\n",
    "\n",
    "if len(periods_list) >0:\n",
    "    df_all = pd.DataFrame()\n",
    "    for m in periods_list:\n",
    "        balances = requests.get(f'https://bank.gov.ua/NBUStatService/v1/statdirectory/banksfinrep?date={m}&period=m&json')\n",
    "        df_balances = pd.DataFrame(balances.json())\n",
    "        df_all = pd.concat([df_all, df_balances])\n",
    "        print(m)\n",
    "        time.sleep(3)\n",
    "    df_all = pd.concat([df_all, balances_downloaded])\n",
    "    df_all.to_csv('./raw data/balances.csv', index=False)"
   ]
  },
  {
   "cell_type": "code",
   "execution_count": 4,
   "metadata": {},
   "outputs": [],
   "source": [
    "# donwload aggregated data\n",
    "\n",
    "pd.pivot_table(balances_downloaded, index='dt', columns='txt', values='value', aggfunc='sum').reset_index().to_csv('./agg data/balances_agg.csv')"
   ]
  }
 ],
 "metadata": {
  "kernelspec": {
   "display_name": "Python 3",
   "language": "python",
   "name": "python3"
  },
  "language_info": {
   "codemirror_mode": {
    "name": "ipython",
    "version": 3
   },
   "file_extension": ".py",
   "mimetype": "text/x-python",
   "name": "python",
   "nbconvert_exporter": "python",
   "pygments_lexer": "ipython3",
   "version": "3.8.5"
  }
 },
 "nbformat": 4,
 "nbformat_minor": 2
}
