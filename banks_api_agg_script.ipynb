{
 "cells": [
  {
   "cell_type": "markdown",
   "metadata": {},
   "source": [
    "## LOAD LIBRARIES"
   ]
  },
  {
   "cell_type": "code",
   "execution_count": 1,
   "metadata": {},
   "outputs": [
    {
     "name": "stderr",
     "output_type": "stream",
     "text": [
      "/opt/homebrew/anaconda3/lib/python3.8/site-packages/pandas/core/computation/expressions.py:20: UserWarning: Pandas requires version '2.7.3' or newer of 'numexpr' (version '2.7.1' currently installed).\n",
      "  from pandas.core.computation.check import NUMEXPR_INSTALLED\n"
     ]
    }
   ],
   "source": [
    "import os\n",
    "import pandas as pd\n",
    "import re\n",
    "import json\n",
    "import openpyxl\n",
    "\n",
    "import requests\n",
    "import time\n",
    "import datetime"
   ]
  },
  {
   "cell_type": "markdown",
   "metadata": {},
   "source": [
    "## ІФС (Індекс фінансового стресу) | FSI (Financial Stress Index)"
   ]
  },
  {
   "cell_type": "code",
   "execution_count": 13,
   "metadata": {},
   "outputs": [],
   "source": [
    "r = requests.get(\"https://bank.gov.ua/ua/stability/fsi#:~:text=%D0%86%D0%BD%D0%B4%D0%B5%D0%BA%D1%81%20%D1%84%D1%96%D0%BD%D0%B0%D0%BD%D1%81%D0%BE%D0%B2%D0%BE%D0%B3%D0%BE%20%D1%81%D1%82%D1%80%D0%B5%D1%81%D1%83%20(%D0%86%D0%A4%D0%A1)%20%E2%80%93,%D0%BD%D0%B5%20%D0%B2%D0%BA%D0%B0%D0%B7%D1%83%D1%94%20%D0%BD%D0%B0%20%D0%BC%D0%B0%D0%B9%D0%B1%D1%83%D1%82%D0%BD%D1%96%20%D1%80%D0%B8%D0%B7%D0%B8%D0%BA%D0%B8.\")\n",
    "fsi_pd = pd.DataFrame(json.loads(re.search(r'JSON\\.parse\\(\\'(.*?)\\'\\)', r.text).group(1)))\n",
    "fsi_pd.columns = ['date', 'fsi']\n",
    "fsi_pd.to_csv('./raw data/fsi_index.csv', index=False)"
   ]
  },
  {
   "cell_type": "markdown",
   "metadata": {},
   "source": [
    "## Статистика NPL загалом"
   ]
  },
  {
   "cell_type": "markdown",
   "metadata": {},
   "source": [
    "https://bank.gov.ua/ua/stability/npl"
   ]
  },
  {
   "cell_type": "code",
   "execution_count": null,
   "metadata": {},
   "outputs": [],
   "source": [
    "today_date = datetime.datetime.today().strftime('%Y-%m-%d')\n",
    "previous_month_date = (pd.Timestamp(today_date) - pd.DateOffset(months=1)).strftime('%Y-%m-%d')"
   ]
  },
  {
   "cell_type": "code",
   "execution_count": 19,
   "metadata": {},
   "outputs": [],
   "source": [
    "try:\n",
    "    npl_total = pd.read_excel(f'https://bank.gov.ua/ua/file/download?file=Data_NPLs%20_{today_date}.xlsx', sheet_name='4_NPL_ratio_Groups')\n",
    "except:\n",
    "    npl_total = pd.read_excel(f'https://bank.gov.ua/ua/file/download?file=Data_NPLs%20_{previous_month_date}.xlsx', sheet_name='4_NPL_ratio_Groups')"
   ]
  },
  {
   "cell_type": "code",
   "execution_count": null,
   "metadata": {},
   "outputs": [],
   "source": [
    "npl_total = npl_total.iloc[4:,1:]\n",
    "npl_total.columns = npl_total.iloc[0]\n",
    "npl_total = npl_total[1:]\n",
    "npl_total['Дата'] = pd.to_datetime(npl_total['Дата'])"
   ]
  },
  {
   "cell_type": "code",
   "execution_count": 25,
   "metadata": {},
   "outputs": [],
   "source": [
    "npl_total.to_csv('./agg data/agg_npl.csv', index=False)"
   ]
  },
  {
   "cell_type": "markdown",
   "metadata": {},
   "source": [
    "## Значення пруденційних нормативів в цілому по системі"
   ]
  },
  {
   "cell_type": "code",
   "execution_count": 131,
   "metadata": {},
   "outputs": [
    {
     "name": "stdout",
     "output_type": "stream",
     "text": [
      "2003\n",
      "2004\n",
      "2005\n",
      "2006\n",
      "2007\n",
      "2008\n",
      "2009\n",
      "2010\n",
      "2011\n",
      "2012\n",
      "2013\n",
      "2014\n",
      "2015\n",
      "2016\n",
      "2017\n",
      "2018\n",
      "2019\n",
      "2020\n",
      "2021\n",
      "2022\n",
      "2023\n",
      "2024\n"
     ]
    }
   ],
   "source": [
    "norms_all = pd.DataFrame()\n",
    "for sn in range(2003, 2025):\n",
    "    norm_prep = pd.read_excel('https://bank.gov.ua/files/stat/Ratios_Banks_2024-10-01.xlsx', sheet_name=str(sn))\n",
    "    norm_prep = norm_prep.iloc[2:, 1:]\n",
    "    norm_prep.iloc[0,0] = 'norm'\n",
    "    norm_prep.iloc[0,1] = 'norm_name'\n",
    "\n",
    "    norm_prep.columns = norm_prep.iloc[0]\n",
    "    norm_prep = norm_prep[1:]\n",
    "\n",
    "    norm_prep = norm_prep.loc[:, ~norm_prep.columns.isna()]\n",
    "    norm_prep = norm_prep.replace('…', 0)\n",
    "\n",
    "    norm_prep = norm_prep.melt(\n",
    "        id_vars=['norm', 'norm_name'],      \n",
    "        var_name='date',                    \n",
    "        value_name='value'                  \n",
    "    )\n",
    "    norm_prep = norm_prep.dropna()\n",
    "    norm_prep['date'] = norm_prep['date'].replace('0', '').astype(str).apply(lambda x: datetime.date(int(sn), int(x.split('.')[1]), int(x.split('.')[0])))\n",
    "    norms_all = pd.concat([norms_all, norm_prep])\n",
    "    time.sleep(2)\n",
    "    print(sn)"
   ]
  },
  {
   "cell_type": "code",
   "execution_count": null,
   "metadata": {},
   "outputs": [],
   "source": [
    "norms_all.to_csv('./agg data/norms.csv', index=False)"
   ]
  },
  {
   "cell_type": "markdown",
   "metadata": {},
   "source": [
    "https://bank.gov.ua/ua/open-data/api-dev"
   ]
  },
  {
   "cell_type": "markdown",
   "metadata": {},
   "source": [
    "## 6. Довідник державних цінних паперів"
   ]
  },
  {
   "cell_type": "markdown",
   "metadata": {},
   "source": [
    "## 7. Кредити, надані депозитними корпораціями"
   ]
  },
  {
   "cell_type": "code",
   "execution_count": 42,
   "metadata": {},
   "outputs": [],
   "source": [
    "# generate range of dates for api process\n",
    "\n",
    "start_date = pd.Timestamp('20160901')\n",
    "today = pd.Timestamp.today()\n",
    "\n",
    "month_diff = (today.year - start_date.year) * 12 + today.month - start_date.month\n",
    "periods_list = pd.date_range(start='20160901', periods=month_diff, freq='MS').strftime('%Y%m%d').tolist()"
   ]
  },
  {
   "cell_type": "code",
   "execution_count": 49,
   "metadata": {},
   "outputs": [
    {
     "data": {
      "text/plain": [
       "<Response [204]>"
      ]
     },
     "execution_count": 49,
     "metadata": {},
     "output_type": "execute_result"
    }
   ],
   "source": [
    "requests.get('https://bank.gov.ua/NBUStatService/v1/statdirectory/loan?date=20200501&json')"
   ]
  },
  {
   "cell_type": "code",
   "execution_count": 44,
   "metadata": {},
   "outputs": [
    {
     "name": "stdout",
     "output_type": "stream",
     "text": [
      "20160901\n",
      "20161001\n",
      "20161101\n",
      "20161201\n",
      "20170101\n",
      "20170201\n",
      "20170301\n",
      "20170401\n",
      "20170501\n",
      "20170601\n",
      "20170701\n",
      "20170801\n",
      "20170901\n",
      "20171001\n",
      "20171101\n",
      "20171201\n",
      "20180101\n",
      "20180201\n",
      "20180301\n",
      "20180401\n",
      "20180501\n",
      "20180601\n",
      "20180701\n",
      "20180801\n",
      "20180901\n",
      "20181001\n",
      "20181101\n",
      "20181201\n",
      "20190101\n",
      "20190201\n",
      "20190301\n",
      "20190401\n",
      "20190501\n",
      "20190601\n",
      "20190701\n",
      "20190801\n",
      "20190901\n",
      "20191001\n",
      "20191101\n",
      "20191201\n",
      "20200101\n",
      "20200201\n",
      "20200301\n",
      "20200401\n"
     ]
    },
    {
     "ename": "JSONDecodeError",
     "evalue": "Expecting value: line 1 column 1 (char 0)",
     "output_type": "error",
     "traceback": [
      "\u001b[0;31m---------------------------------------------------------------------------\u001b[0m",
      "\u001b[0;31mJSONDecodeError\u001b[0m                           Traceback (most recent call last)",
      "\u001b[0;32m/opt/homebrew/anaconda3/lib/python3.8/site-packages/requests/models.py\u001b[0m in \u001b[0;36mjson\u001b[0;34m(self, **kwargs)\u001b[0m\n\u001b[1;32m    973\u001b[0m         \u001b[0;32mtry\u001b[0m\u001b[0;34m:\u001b[0m\u001b[0;34m\u001b[0m\u001b[0;34m\u001b[0m\u001b[0m\n\u001b[0;32m--> 974\u001b[0;31m             \u001b[0;32mreturn\u001b[0m \u001b[0mcomplexjson\u001b[0m\u001b[0;34m.\u001b[0m\u001b[0mloads\u001b[0m\u001b[0;34m(\u001b[0m\u001b[0mself\u001b[0m\u001b[0;34m.\u001b[0m\u001b[0mtext\u001b[0m\u001b[0;34m,\u001b[0m \u001b[0;34m**\u001b[0m\u001b[0mkwargs\u001b[0m\u001b[0;34m)\u001b[0m\u001b[0;34m\u001b[0m\u001b[0;34m\u001b[0m\u001b[0m\n\u001b[0m\u001b[1;32m    975\u001b[0m         \u001b[0;32mexcept\u001b[0m \u001b[0mJSONDecodeError\u001b[0m \u001b[0;32mas\u001b[0m \u001b[0me\u001b[0m\u001b[0;34m:\u001b[0m\u001b[0;34m\u001b[0m\u001b[0;34m\u001b[0m\u001b[0m\n",
      "\u001b[0;32m/opt/homebrew/anaconda3/lib/python3.8/json/__init__.py\u001b[0m in \u001b[0;36mloads\u001b[0;34m(s, cls, object_hook, parse_float, parse_int, parse_constant, object_pairs_hook, **kw)\u001b[0m\n\u001b[1;32m    356\u001b[0m             parse_constant is None and object_pairs_hook is None and not kw):\n\u001b[0;32m--> 357\u001b[0;31m         \u001b[0;32mreturn\u001b[0m \u001b[0m_default_decoder\u001b[0m\u001b[0;34m.\u001b[0m\u001b[0mdecode\u001b[0m\u001b[0;34m(\u001b[0m\u001b[0ms\u001b[0m\u001b[0;34m)\u001b[0m\u001b[0;34m\u001b[0m\u001b[0;34m\u001b[0m\u001b[0m\n\u001b[0m\u001b[1;32m    358\u001b[0m     \u001b[0;32mif\u001b[0m \u001b[0mcls\u001b[0m \u001b[0;32mis\u001b[0m \u001b[0;32mNone\u001b[0m\u001b[0;34m:\u001b[0m\u001b[0;34m\u001b[0m\u001b[0;34m\u001b[0m\u001b[0m\n",
      "\u001b[0;32m/opt/homebrew/anaconda3/lib/python3.8/json/decoder.py\u001b[0m in \u001b[0;36mdecode\u001b[0;34m(self, s, _w)\u001b[0m\n\u001b[1;32m    336\u001b[0m         \"\"\"\n\u001b[0;32m--> 337\u001b[0;31m         \u001b[0mobj\u001b[0m\u001b[0;34m,\u001b[0m \u001b[0mend\u001b[0m \u001b[0;34m=\u001b[0m \u001b[0mself\u001b[0m\u001b[0;34m.\u001b[0m\u001b[0mraw_decode\u001b[0m\u001b[0;34m(\u001b[0m\u001b[0ms\u001b[0m\u001b[0;34m,\u001b[0m \u001b[0midx\u001b[0m\u001b[0;34m=\u001b[0m\u001b[0m_w\u001b[0m\u001b[0;34m(\u001b[0m\u001b[0ms\u001b[0m\u001b[0;34m,\u001b[0m \u001b[0;36m0\u001b[0m\u001b[0;34m)\u001b[0m\u001b[0;34m.\u001b[0m\u001b[0mend\u001b[0m\u001b[0;34m(\u001b[0m\u001b[0;34m)\u001b[0m\u001b[0;34m)\u001b[0m\u001b[0;34m\u001b[0m\u001b[0;34m\u001b[0m\u001b[0m\n\u001b[0m\u001b[1;32m    338\u001b[0m         \u001b[0mend\u001b[0m \u001b[0;34m=\u001b[0m \u001b[0m_w\u001b[0m\u001b[0;34m(\u001b[0m\u001b[0ms\u001b[0m\u001b[0;34m,\u001b[0m \u001b[0mend\u001b[0m\u001b[0;34m)\u001b[0m\u001b[0;34m.\u001b[0m\u001b[0mend\u001b[0m\u001b[0;34m(\u001b[0m\u001b[0;34m)\u001b[0m\u001b[0;34m\u001b[0m\u001b[0;34m\u001b[0m\u001b[0m\n",
      "\u001b[0;32m/opt/homebrew/anaconda3/lib/python3.8/json/decoder.py\u001b[0m in \u001b[0;36mraw_decode\u001b[0;34m(self, s, idx)\u001b[0m\n\u001b[1;32m    354\u001b[0m         \u001b[0;32mexcept\u001b[0m \u001b[0mStopIteration\u001b[0m \u001b[0;32mas\u001b[0m \u001b[0merr\u001b[0m\u001b[0;34m:\u001b[0m\u001b[0;34m\u001b[0m\u001b[0;34m\u001b[0m\u001b[0m\n\u001b[0;32m--> 355\u001b[0;31m             \u001b[0;32mraise\u001b[0m \u001b[0mJSONDecodeError\u001b[0m\u001b[0;34m(\u001b[0m\u001b[0;34m\"Expecting value\"\u001b[0m\u001b[0;34m,\u001b[0m \u001b[0ms\u001b[0m\u001b[0;34m,\u001b[0m \u001b[0merr\u001b[0m\u001b[0;34m.\u001b[0m\u001b[0mvalue\u001b[0m\u001b[0;34m)\u001b[0m \u001b[0;32mfrom\u001b[0m \u001b[0;32mNone\u001b[0m\u001b[0;34m\u001b[0m\u001b[0;34m\u001b[0m\u001b[0m\n\u001b[0m\u001b[1;32m    356\u001b[0m         \u001b[0;32mreturn\u001b[0m \u001b[0mobj\u001b[0m\u001b[0;34m,\u001b[0m \u001b[0mend\u001b[0m\u001b[0;34m\u001b[0m\u001b[0;34m\u001b[0m\u001b[0m\n",
      "\u001b[0;31mJSONDecodeError\u001b[0m: Expecting value: line 1 column 1 (char 0)",
      "\nDuring handling of the above exception, another exception occurred:\n",
      "\u001b[0;31mJSONDecodeError\u001b[0m                           Traceback (most recent call last)",
      "\u001b[0;32m<ipython-input-44-cc75c30a7cca>\u001b[0m in \u001b[0;36m<cell line: 2>\u001b[0;34m()\u001b[0m\n\u001b[1;32m      2\u001b[0m \u001b[0;32mfor\u001b[0m \u001b[0mm\u001b[0m \u001b[0;32min\u001b[0m \u001b[0mperiods_list\u001b[0m\u001b[0;34m:\u001b[0m\u001b[0;34m\u001b[0m\u001b[0;34m\u001b[0m\u001b[0m\n\u001b[1;32m      3\u001b[0m     \u001b[0mdr\u001b[0m \u001b[0;34m=\u001b[0m \u001b[0mrequests\u001b[0m\u001b[0;34m.\u001b[0m\u001b[0mget\u001b[0m\u001b[0;34m(\u001b[0m\u001b[0;34mf'https://bank.gov.ua/NBUStatService/v1/statdirectory/loan?date={m}&json'\u001b[0m\u001b[0;34m)\u001b[0m\u001b[0;34m\u001b[0m\u001b[0;34m\u001b[0m\u001b[0m\n\u001b[0;32m----> 4\u001b[0;31m     \u001b[0mdr\u001b[0m \u001b[0;34m=\u001b[0m \u001b[0mpd\u001b[0m\u001b[0;34m.\u001b[0m\u001b[0mDataFrame\u001b[0m\u001b[0;34m(\u001b[0m\u001b[0mdr\u001b[0m\u001b[0;34m.\u001b[0m\u001b[0mjson\u001b[0m\u001b[0;34m(\u001b[0m\u001b[0;34m)\u001b[0m\u001b[0;34m)\u001b[0m\u001b[0;34m\u001b[0m\u001b[0;34m\u001b[0m\u001b[0m\n\u001b[0m\u001b[1;32m      5\u001b[0m     \u001b[0mdf_all\u001b[0m \u001b[0;34m=\u001b[0m \u001b[0mpd\u001b[0m\u001b[0;34m.\u001b[0m\u001b[0mconcat\u001b[0m\u001b[0;34m(\u001b[0m\u001b[0;34m[\u001b[0m\u001b[0mdf_all\u001b[0m\u001b[0;34m,\u001b[0m \u001b[0mdr\u001b[0m\u001b[0;34m]\u001b[0m\u001b[0;34m)\u001b[0m\u001b[0;34m\u001b[0m\u001b[0;34m\u001b[0m\u001b[0m\n\u001b[1;32m      6\u001b[0m     \u001b[0mprint\u001b[0m\u001b[0;34m(\u001b[0m\u001b[0mm\u001b[0m\u001b[0;34m)\u001b[0m\u001b[0;34m\u001b[0m\u001b[0;34m\u001b[0m\u001b[0m\n",
      "\u001b[0;32m/opt/homebrew/anaconda3/lib/python3.8/site-packages/requests/models.py\u001b[0m in \u001b[0;36mjson\u001b[0;34m(self, **kwargs)\u001b[0m\n\u001b[1;32m    976\u001b[0m             \u001b[0;31m# Catch JSON-related errors and raise as requests.JSONDecodeError\u001b[0m\u001b[0;34m\u001b[0m\u001b[0;34m\u001b[0m\u001b[0;34m\u001b[0m\u001b[0m\n\u001b[1;32m    977\u001b[0m             \u001b[0;31m# This aliases json.JSONDecodeError and simplejson.JSONDecodeError\u001b[0m\u001b[0;34m\u001b[0m\u001b[0;34m\u001b[0m\u001b[0;34m\u001b[0m\u001b[0m\n\u001b[0;32m--> 978\u001b[0;31m             \u001b[0;32mraise\u001b[0m \u001b[0mRequestsJSONDecodeError\u001b[0m\u001b[0;34m(\u001b[0m\u001b[0me\u001b[0m\u001b[0;34m.\u001b[0m\u001b[0mmsg\u001b[0m\u001b[0;34m,\u001b[0m \u001b[0me\u001b[0m\u001b[0;34m.\u001b[0m\u001b[0mdoc\u001b[0m\u001b[0;34m,\u001b[0m \u001b[0me\u001b[0m\u001b[0;34m.\u001b[0m\u001b[0mpos\u001b[0m\u001b[0;34m)\u001b[0m\u001b[0;34m\u001b[0m\u001b[0;34m\u001b[0m\u001b[0m\n\u001b[0m\u001b[1;32m    979\u001b[0m \u001b[0;34m\u001b[0m\u001b[0m\n\u001b[1;32m    980\u001b[0m     \u001b[0;34m@\u001b[0m\u001b[0mproperty\u001b[0m\u001b[0;34m\u001b[0m\u001b[0;34m\u001b[0m\u001b[0m\n",
      "\u001b[0;31mJSONDecodeError\u001b[0m: Expecting value: line 1 column 1 (char 0)"
     ]
    }
   ],
   "source": [
    "df_all = pd.DataFrame()\n",
    "for m in periods_list:\n",
    "    dr = requests.get(f'https://bank.gov.ua/NBUStatService/v1/statdirectory/loan?date={m}&json')\n",
    "    dr = pd.DataFrame(dr.json())\n",
    "    df_all = pd.concat([df_all, dr])\n",
    "    print(m)\n",
    "    time.sleep(1)\n",
    "df_all.to_csv('./raw data/loans.csv', index=False)"
   ]
  },
  {
   "cell_type": "code",
   "execution_count": null,
   "metadata": {},
   "outputs": [],
   "source": [
    "# donwload raw data\n",
    "\n",
    "loans_downloaded = pd.read_csv('./raw data/loans.csv')\n",
    "\n",
    "periods_list = list(set(periods_list) - set(loans_downloaded['dt'].astype(str).drop_duplicates()))\n",
    "\n",
    "print(f\"Absent periods - {len(periods_list)}\")\n",
    "\n",
    "if len(periods_list) >0:\n",
    "    df_all = pd.DataFrame()\n",
    "    for m in periods_list:\n",
    "        dr = requests.get(f'https://bank.gov.ua/NBUStatService/v1/statdirectory/loan?date={m}&json')\n",
    "        dr = pd.DataFrame(dr.json())\n",
    "        df_all = pd.concat([df_all, dr])\n",
    "        print(m)\n",
    "        time.sleep(3)\n",
    "    df_all = pd.concat([df_all, loans_downloaded])\n",
    "    df_all.to_csv('./raw data/loans.csv', index=False)"
   ]
  },
  {
   "cell_type": "code",
   "execution_count": null,
   "metadata": {},
   "outputs": [],
   "source": [
    "# donwload aggregated data\n",
    "\n",
    "pd.pivot_table(loans_downloaded, index='dt', columns='txt', values='value', aggfunc='sum').reset_index().to_csv('./agg data/loans_agg.csv')"
   ]
  },
  {
   "cell_type": "markdown",
   "metadata": {},
   "source": [
    "## 8. Депозити, залучені депозитними корпораціями"
   ]
  },
  {
   "cell_type": "code",
   "execution_count": 37,
   "metadata": {},
   "outputs": [],
   "source": [
    "# generate range of dates for api process\n",
    "\n",
    "start_date = pd.Timestamp('20160901')\n",
    "today = pd.Timestamp.today()\n",
    "\n",
    "month_diff = (today.year - start_date.year) * 12 + today.month - start_date.month\n",
    "periods_list = pd.date_range(start='20160901', periods=month_diff, freq='MS').strftime('%Y%m%d').tolist()"
   ]
  },
  {
   "cell_type": "code",
   "execution_count": 47,
   "metadata": {},
   "outputs": [
    {
     "data": {
      "text/plain": [
       "<Response [204]>"
      ]
     },
     "execution_count": 47,
     "metadata": {},
     "output_type": "execute_result"
    }
   ],
   "source": [
    "requests.get('https://bank.gov.ua/NBUStatService/v1/statdirectory/deposit?date=20170801&json')"
   ]
  },
  {
   "cell_type": "code",
   "execution_count": 39,
   "metadata": {},
   "outputs": [
    {
     "ename": "JSONDecodeError",
     "evalue": "Expecting value: line 1 column 1 (char 0)",
     "output_type": "error",
     "traceback": [
      "\u001b[0;31m---------------------------------------------------------------------------\u001b[0m",
      "\u001b[0;31mJSONDecodeError\u001b[0m                           Traceback (most recent call last)",
      "\u001b[0;32m/opt/homebrew/anaconda3/lib/python3.8/site-packages/requests/models.py\u001b[0m in \u001b[0;36mjson\u001b[0;34m(self, **kwargs)\u001b[0m\n\u001b[1;32m    973\u001b[0m         \u001b[0;32mtry\u001b[0m\u001b[0;34m:\u001b[0m\u001b[0;34m\u001b[0m\u001b[0;34m\u001b[0m\u001b[0m\n\u001b[0;32m--> 974\u001b[0;31m             \u001b[0;32mreturn\u001b[0m \u001b[0mcomplexjson\u001b[0m\u001b[0;34m.\u001b[0m\u001b[0mloads\u001b[0m\u001b[0;34m(\u001b[0m\u001b[0mself\u001b[0m\u001b[0;34m.\u001b[0m\u001b[0mtext\u001b[0m\u001b[0;34m,\u001b[0m \u001b[0;34m**\u001b[0m\u001b[0mkwargs\u001b[0m\u001b[0;34m)\u001b[0m\u001b[0;34m\u001b[0m\u001b[0;34m\u001b[0m\u001b[0m\n\u001b[0m\u001b[1;32m    975\u001b[0m         \u001b[0;32mexcept\u001b[0m \u001b[0mJSONDecodeError\u001b[0m \u001b[0;32mas\u001b[0m \u001b[0me\u001b[0m\u001b[0;34m:\u001b[0m\u001b[0;34m\u001b[0m\u001b[0;34m\u001b[0m\u001b[0m\n",
      "\u001b[0;32m/opt/homebrew/anaconda3/lib/python3.8/json/__init__.py\u001b[0m in \u001b[0;36mloads\u001b[0;34m(s, cls, object_hook, parse_float, parse_int, parse_constant, object_pairs_hook, **kw)\u001b[0m\n\u001b[1;32m    356\u001b[0m             parse_constant is None and object_pairs_hook is None and not kw):\n\u001b[0;32m--> 357\u001b[0;31m         \u001b[0;32mreturn\u001b[0m \u001b[0m_default_decoder\u001b[0m\u001b[0;34m.\u001b[0m\u001b[0mdecode\u001b[0m\u001b[0;34m(\u001b[0m\u001b[0ms\u001b[0m\u001b[0;34m)\u001b[0m\u001b[0;34m\u001b[0m\u001b[0;34m\u001b[0m\u001b[0m\n\u001b[0m\u001b[1;32m    358\u001b[0m     \u001b[0;32mif\u001b[0m \u001b[0mcls\u001b[0m \u001b[0;32mis\u001b[0m \u001b[0;32mNone\u001b[0m\u001b[0;34m:\u001b[0m\u001b[0;34m\u001b[0m\u001b[0;34m\u001b[0m\u001b[0m\n",
      "\u001b[0;32m/opt/homebrew/anaconda3/lib/python3.8/json/decoder.py\u001b[0m in \u001b[0;36mdecode\u001b[0;34m(self, s, _w)\u001b[0m\n\u001b[1;32m    336\u001b[0m         \"\"\"\n\u001b[0;32m--> 337\u001b[0;31m         \u001b[0mobj\u001b[0m\u001b[0;34m,\u001b[0m \u001b[0mend\u001b[0m \u001b[0;34m=\u001b[0m \u001b[0mself\u001b[0m\u001b[0;34m.\u001b[0m\u001b[0mraw_decode\u001b[0m\u001b[0;34m(\u001b[0m\u001b[0ms\u001b[0m\u001b[0;34m,\u001b[0m \u001b[0midx\u001b[0m\u001b[0;34m=\u001b[0m\u001b[0m_w\u001b[0m\u001b[0;34m(\u001b[0m\u001b[0ms\u001b[0m\u001b[0;34m,\u001b[0m \u001b[0;36m0\u001b[0m\u001b[0;34m)\u001b[0m\u001b[0;34m.\u001b[0m\u001b[0mend\u001b[0m\u001b[0;34m(\u001b[0m\u001b[0;34m)\u001b[0m\u001b[0;34m)\u001b[0m\u001b[0;34m\u001b[0m\u001b[0;34m\u001b[0m\u001b[0m\n\u001b[0m\u001b[1;32m    338\u001b[0m         \u001b[0mend\u001b[0m \u001b[0;34m=\u001b[0m \u001b[0m_w\u001b[0m\u001b[0;34m(\u001b[0m\u001b[0ms\u001b[0m\u001b[0;34m,\u001b[0m \u001b[0mend\u001b[0m\u001b[0;34m)\u001b[0m\u001b[0;34m.\u001b[0m\u001b[0mend\u001b[0m\u001b[0;34m(\u001b[0m\u001b[0;34m)\u001b[0m\u001b[0;34m\u001b[0m\u001b[0;34m\u001b[0m\u001b[0m\n",
      "\u001b[0;32m/opt/homebrew/anaconda3/lib/python3.8/json/decoder.py\u001b[0m in \u001b[0;36mraw_decode\u001b[0;34m(self, s, idx)\u001b[0m\n\u001b[1;32m    354\u001b[0m         \u001b[0;32mexcept\u001b[0m \u001b[0mStopIteration\u001b[0m \u001b[0;32mas\u001b[0m \u001b[0merr\u001b[0m\u001b[0;34m:\u001b[0m\u001b[0;34m\u001b[0m\u001b[0;34m\u001b[0m\u001b[0m\n\u001b[0;32m--> 355\u001b[0;31m             \u001b[0;32mraise\u001b[0m \u001b[0mJSONDecodeError\u001b[0m\u001b[0;34m(\u001b[0m\u001b[0;34m\"Expecting value\"\u001b[0m\u001b[0;34m,\u001b[0m \u001b[0ms\u001b[0m\u001b[0;34m,\u001b[0m \u001b[0merr\u001b[0m\u001b[0;34m.\u001b[0m\u001b[0mvalue\u001b[0m\u001b[0;34m)\u001b[0m \u001b[0;32mfrom\u001b[0m \u001b[0;32mNone\u001b[0m\u001b[0;34m\u001b[0m\u001b[0;34m\u001b[0m\u001b[0m\n\u001b[0m\u001b[1;32m    356\u001b[0m         \u001b[0;32mreturn\u001b[0m \u001b[0mobj\u001b[0m\u001b[0;34m,\u001b[0m \u001b[0mend\u001b[0m\u001b[0;34m\u001b[0m\u001b[0;34m\u001b[0m\u001b[0m\n",
      "\u001b[0;31mJSONDecodeError\u001b[0m: Expecting value: line 1 column 1 (char 0)",
      "\nDuring handling of the above exception, another exception occurred:\n",
      "\u001b[0;31mJSONDecodeError\u001b[0m                           Traceback (most recent call last)",
      "\u001b[0;32m<ipython-input-39-5466733a3f70>\u001b[0m in \u001b[0;36m<cell line: 2>\u001b[0;34m()\u001b[0m\n\u001b[1;32m      1\u001b[0m \u001b[0mdr\u001b[0m \u001b[0;34m=\u001b[0m \u001b[0mrequests\u001b[0m\u001b[0;34m.\u001b[0m\u001b[0mget\u001b[0m\u001b[0;34m(\u001b[0m\u001b[0;34mf'https://bank.gov.ua/NBUStatService/v1/statdirectory/deposit?date={m}&json'\u001b[0m\u001b[0;34m)\u001b[0m\u001b[0;34m\u001b[0m\u001b[0;34m\u001b[0m\u001b[0m\n\u001b[0;32m----> 2\u001b[0;31m \u001b[0mdr\u001b[0m \u001b[0;34m=\u001b[0m \u001b[0mpd\u001b[0m\u001b[0;34m.\u001b[0m\u001b[0mDataFrame\u001b[0m\u001b[0;34m(\u001b[0m\u001b[0mdr\u001b[0m\u001b[0;34m.\u001b[0m\u001b[0mjson\u001b[0m\u001b[0;34m(\u001b[0m\u001b[0;34m)\u001b[0m\u001b[0;34m)\u001b[0m\u001b[0;34m\u001b[0m\u001b[0;34m\u001b[0m\u001b[0m\n\u001b[0m\u001b[1;32m      3\u001b[0m \u001b[0mdf_all\u001b[0m \u001b[0;34m=\u001b[0m \u001b[0mpd\u001b[0m\u001b[0;34m.\u001b[0m\u001b[0mconcat\u001b[0m\u001b[0;34m(\u001b[0m\u001b[0;34m[\u001b[0m\u001b[0mdf_all\u001b[0m\u001b[0;34m,\u001b[0m \u001b[0mdr\u001b[0m\u001b[0;34m]\u001b[0m\u001b[0;34m)\u001b[0m\u001b[0;34m\u001b[0m\u001b[0;34m\u001b[0m\u001b[0m\n\u001b[1;32m      4\u001b[0m \u001b[0mprint\u001b[0m\u001b[0;34m(\u001b[0m\u001b[0mm\u001b[0m\u001b[0;34m)\u001b[0m\u001b[0;34m\u001b[0m\u001b[0;34m\u001b[0m\u001b[0m\n\u001b[1;32m      5\u001b[0m \u001b[0mtime\u001b[0m\u001b[0;34m.\u001b[0m\u001b[0msleep\u001b[0m\u001b[0;34m(\u001b[0m\u001b[0;36m1\u001b[0m\u001b[0;34m)\u001b[0m\u001b[0;34m\u001b[0m\u001b[0;34m\u001b[0m\u001b[0m\n",
      "\u001b[0;32m/opt/homebrew/anaconda3/lib/python3.8/site-packages/requests/models.py\u001b[0m in \u001b[0;36mjson\u001b[0;34m(self, **kwargs)\u001b[0m\n\u001b[1;32m    976\u001b[0m             \u001b[0;31m# Catch JSON-related errors and raise as requests.JSONDecodeError\u001b[0m\u001b[0;34m\u001b[0m\u001b[0;34m\u001b[0m\u001b[0;34m\u001b[0m\u001b[0m\n\u001b[1;32m    977\u001b[0m             \u001b[0;31m# This aliases json.JSONDecodeError and simplejson.JSONDecodeError\u001b[0m\u001b[0;34m\u001b[0m\u001b[0;34m\u001b[0m\u001b[0;34m\u001b[0m\u001b[0m\n\u001b[0;32m--> 978\u001b[0;31m             \u001b[0;32mraise\u001b[0m \u001b[0mRequestsJSONDecodeError\u001b[0m\u001b[0;34m(\u001b[0m\u001b[0me\u001b[0m\u001b[0;34m.\u001b[0m\u001b[0mmsg\u001b[0m\u001b[0;34m,\u001b[0m \u001b[0me\u001b[0m\u001b[0;34m.\u001b[0m\u001b[0mdoc\u001b[0m\u001b[0;34m,\u001b[0m \u001b[0me\u001b[0m\u001b[0;34m.\u001b[0m\u001b[0mpos\u001b[0m\u001b[0;34m)\u001b[0m\u001b[0;34m\u001b[0m\u001b[0;34m\u001b[0m\u001b[0m\n\u001b[0m\u001b[1;32m    979\u001b[0m \u001b[0;34m\u001b[0m\u001b[0m\n\u001b[1;32m    980\u001b[0m     \u001b[0;34m@\u001b[0m\u001b[0mproperty\u001b[0m\u001b[0;34m\u001b[0m\u001b[0;34m\u001b[0m\u001b[0m\n",
      "\u001b[0;31mJSONDecodeError\u001b[0m: Expecting value: line 1 column 1 (char 0)"
     ]
    }
   ],
   "source": [
    "dr = requests.get(f'https://bank.gov.ua/NBUStatService/v1/statdirectory/deposit?date={m}&json')\n",
    "dr = pd.DataFrame(dr.json())\n",
    "df_all = pd.concat([df_all, dr])\n",
    "print(m)\n",
    "time.sleep(1)"
   ]
  },
  {
   "cell_type": "code",
   "execution_count": 38,
   "metadata": {},
   "outputs": [
    {
     "name": "stdout",
     "output_type": "stream",
     "text": [
      "20160901\n",
      "20161001\n",
      "20161101\n",
      "20161201\n",
      "20170101\n",
      "20170201\n",
      "20170301\n",
      "20170401\n",
      "20170501\n",
      "20170601\n",
      "20170701\n"
     ]
    },
    {
     "ename": "JSONDecodeError",
     "evalue": "Expecting value: line 1 column 1 (char 0)",
     "output_type": "error",
     "traceback": [
      "\u001b[0;31m---------------------------------------------------------------------------\u001b[0m",
      "\u001b[0;31mJSONDecodeError\u001b[0m                           Traceback (most recent call last)",
      "\u001b[0;32m/opt/homebrew/anaconda3/lib/python3.8/site-packages/requests/models.py\u001b[0m in \u001b[0;36mjson\u001b[0;34m(self, **kwargs)\u001b[0m\n\u001b[1;32m    973\u001b[0m         \u001b[0;32mtry\u001b[0m\u001b[0;34m:\u001b[0m\u001b[0;34m\u001b[0m\u001b[0;34m\u001b[0m\u001b[0m\n\u001b[0;32m--> 974\u001b[0;31m             \u001b[0;32mreturn\u001b[0m \u001b[0mcomplexjson\u001b[0m\u001b[0;34m.\u001b[0m\u001b[0mloads\u001b[0m\u001b[0;34m(\u001b[0m\u001b[0mself\u001b[0m\u001b[0;34m.\u001b[0m\u001b[0mtext\u001b[0m\u001b[0;34m,\u001b[0m \u001b[0;34m**\u001b[0m\u001b[0mkwargs\u001b[0m\u001b[0;34m)\u001b[0m\u001b[0;34m\u001b[0m\u001b[0;34m\u001b[0m\u001b[0m\n\u001b[0m\u001b[1;32m    975\u001b[0m         \u001b[0;32mexcept\u001b[0m \u001b[0mJSONDecodeError\u001b[0m \u001b[0;32mas\u001b[0m \u001b[0me\u001b[0m\u001b[0;34m:\u001b[0m\u001b[0;34m\u001b[0m\u001b[0;34m\u001b[0m\u001b[0m\n",
      "\u001b[0;32m/opt/homebrew/anaconda3/lib/python3.8/json/__init__.py\u001b[0m in \u001b[0;36mloads\u001b[0;34m(s, cls, object_hook, parse_float, parse_int, parse_constant, object_pairs_hook, **kw)\u001b[0m\n\u001b[1;32m    356\u001b[0m             parse_constant is None and object_pairs_hook is None and not kw):\n\u001b[0;32m--> 357\u001b[0;31m         \u001b[0;32mreturn\u001b[0m \u001b[0m_default_decoder\u001b[0m\u001b[0;34m.\u001b[0m\u001b[0mdecode\u001b[0m\u001b[0;34m(\u001b[0m\u001b[0ms\u001b[0m\u001b[0;34m)\u001b[0m\u001b[0;34m\u001b[0m\u001b[0;34m\u001b[0m\u001b[0m\n\u001b[0m\u001b[1;32m    358\u001b[0m     \u001b[0;32mif\u001b[0m \u001b[0mcls\u001b[0m \u001b[0;32mis\u001b[0m \u001b[0;32mNone\u001b[0m\u001b[0;34m:\u001b[0m\u001b[0;34m\u001b[0m\u001b[0;34m\u001b[0m\u001b[0m\n",
      "\u001b[0;32m/opt/homebrew/anaconda3/lib/python3.8/json/decoder.py\u001b[0m in \u001b[0;36mdecode\u001b[0;34m(self, s, _w)\u001b[0m\n\u001b[1;32m    336\u001b[0m         \"\"\"\n\u001b[0;32m--> 337\u001b[0;31m         \u001b[0mobj\u001b[0m\u001b[0;34m,\u001b[0m \u001b[0mend\u001b[0m \u001b[0;34m=\u001b[0m \u001b[0mself\u001b[0m\u001b[0;34m.\u001b[0m\u001b[0mraw_decode\u001b[0m\u001b[0;34m(\u001b[0m\u001b[0ms\u001b[0m\u001b[0;34m,\u001b[0m \u001b[0midx\u001b[0m\u001b[0;34m=\u001b[0m\u001b[0m_w\u001b[0m\u001b[0;34m(\u001b[0m\u001b[0ms\u001b[0m\u001b[0;34m,\u001b[0m \u001b[0;36m0\u001b[0m\u001b[0;34m)\u001b[0m\u001b[0;34m.\u001b[0m\u001b[0mend\u001b[0m\u001b[0;34m(\u001b[0m\u001b[0;34m)\u001b[0m\u001b[0;34m)\u001b[0m\u001b[0;34m\u001b[0m\u001b[0;34m\u001b[0m\u001b[0m\n\u001b[0m\u001b[1;32m    338\u001b[0m         \u001b[0mend\u001b[0m \u001b[0;34m=\u001b[0m \u001b[0m_w\u001b[0m\u001b[0;34m(\u001b[0m\u001b[0ms\u001b[0m\u001b[0;34m,\u001b[0m \u001b[0mend\u001b[0m\u001b[0;34m)\u001b[0m\u001b[0;34m.\u001b[0m\u001b[0mend\u001b[0m\u001b[0;34m(\u001b[0m\u001b[0;34m)\u001b[0m\u001b[0;34m\u001b[0m\u001b[0;34m\u001b[0m\u001b[0m\n",
      "\u001b[0;32m/opt/homebrew/anaconda3/lib/python3.8/json/decoder.py\u001b[0m in \u001b[0;36mraw_decode\u001b[0;34m(self, s, idx)\u001b[0m\n\u001b[1;32m    354\u001b[0m         \u001b[0;32mexcept\u001b[0m \u001b[0mStopIteration\u001b[0m \u001b[0;32mas\u001b[0m \u001b[0merr\u001b[0m\u001b[0;34m:\u001b[0m\u001b[0;34m\u001b[0m\u001b[0;34m\u001b[0m\u001b[0m\n\u001b[0;32m--> 355\u001b[0;31m             \u001b[0;32mraise\u001b[0m \u001b[0mJSONDecodeError\u001b[0m\u001b[0;34m(\u001b[0m\u001b[0;34m\"Expecting value\"\u001b[0m\u001b[0;34m,\u001b[0m \u001b[0ms\u001b[0m\u001b[0;34m,\u001b[0m \u001b[0merr\u001b[0m\u001b[0;34m.\u001b[0m\u001b[0mvalue\u001b[0m\u001b[0;34m)\u001b[0m \u001b[0;32mfrom\u001b[0m \u001b[0;32mNone\u001b[0m\u001b[0;34m\u001b[0m\u001b[0;34m\u001b[0m\u001b[0m\n\u001b[0m\u001b[1;32m    356\u001b[0m         \u001b[0;32mreturn\u001b[0m \u001b[0mobj\u001b[0m\u001b[0;34m,\u001b[0m \u001b[0mend\u001b[0m\u001b[0;34m\u001b[0m\u001b[0;34m\u001b[0m\u001b[0m\n",
      "\u001b[0;31mJSONDecodeError\u001b[0m: Expecting value: line 1 column 1 (char 0)",
      "\nDuring handling of the above exception, another exception occurred:\n",
      "\u001b[0;31mJSONDecodeError\u001b[0m                           Traceback (most recent call last)",
      "\u001b[0;32m<ipython-input-38-2a206f63e637>\u001b[0m in \u001b[0;36m<cell line: 2>\u001b[0;34m()\u001b[0m\n\u001b[1;32m      2\u001b[0m \u001b[0;32mfor\u001b[0m \u001b[0mm\u001b[0m \u001b[0;32min\u001b[0m \u001b[0mperiods_list\u001b[0m\u001b[0;34m:\u001b[0m\u001b[0;34m\u001b[0m\u001b[0;34m\u001b[0m\u001b[0m\n\u001b[1;32m      3\u001b[0m     \u001b[0mdr\u001b[0m \u001b[0;34m=\u001b[0m \u001b[0mrequests\u001b[0m\u001b[0;34m.\u001b[0m\u001b[0mget\u001b[0m\u001b[0;34m(\u001b[0m\u001b[0;34mf'https://bank.gov.ua/NBUStatService/v1/statdirectory/deposit?date={m}&json'\u001b[0m\u001b[0;34m)\u001b[0m\u001b[0;34m\u001b[0m\u001b[0;34m\u001b[0m\u001b[0m\n\u001b[0;32m----> 4\u001b[0;31m     \u001b[0mdr\u001b[0m \u001b[0;34m=\u001b[0m \u001b[0mpd\u001b[0m\u001b[0;34m.\u001b[0m\u001b[0mDataFrame\u001b[0m\u001b[0;34m(\u001b[0m\u001b[0mdr\u001b[0m\u001b[0;34m.\u001b[0m\u001b[0mjson\u001b[0m\u001b[0;34m(\u001b[0m\u001b[0;34m)\u001b[0m\u001b[0;34m)\u001b[0m\u001b[0;34m\u001b[0m\u001b[0;34m\u001b[0m\u001b[0m\n\u001b[0m\u001b[1;32m      5\u001b[0m     \u001b[0mdf_all\u001b[0m \u001b[0;34m=\u001b[0m \u001b[0mpd\u001b[0m\u001b[0;34m.\u001b[0m\u001b[0mconcat\u001b[0m\u001b[0;34m(\u001b[0m\u001b[0;34m[\u001b[0m\u001b[0mdf_all\u001b[0m\u001b[0;34m,\u001b[0m \u001b[0mdr\u001b[0m\u001b[0;34m]\u001b[0m\u001b[0;34m)\u001b[0m\u001b[0;34m\u001b[0m\u001b[0;34m\u001b[0m\u001b[0m\n\u001b[1;32m      6\u001b[0m     \u001b[0mprint\u001b[0m\u001b[0;34m(\u001b[0m\u001b[0mm\u001b[0m\u001b[0;34m)\u001b[0m\u001b[0;34m\u001b[0m\u001b[0;34m\u001b[0m\u001b[0m\n",
      "\u001b[0;32m/opt/homebrew/anaconda3/lib/python3.8/site-packages/requests/models.py\u001b[0m in \u001b[0;36mjson\u001b[0;34m(self, **kwargs)\u001b[0m\n\u001b[1;32m    976\u001b[0m             \u001b[0;31m# Catch JSON-related errors and raise as requests.JSONDecodeError\u001b[0m\u001b[0;34m\u001b[0m\u001b[0;34m\u001b[0m\u001b[0;34m\u001b[0m\u001b[0m\n\u001b[1;32m    977\u001b[0m             \u001b[0;31m# This aliases json.JSONDecodeError and simplejson.JSONDecodeError\u001b[0m\u001b[0;34m\u001b[0m\u001b[0;34m\u001b[0m\u001b[0;34m\u001b[0m\u001b[0m\n\u001b[0;32m--> 978\u001b[0;31m             \u001b[0;32mraise\u001b[0m \u001b[0mRequestsJSONDecodeError\u001b[0m\u001b[0;34m(\u001b[0m\u001b[0me\u001b[0m\u001b[0;34m.\u001b[0m\u001b[0mmsg\u001b[0m\u001b[0;34m,\u001b[0m \u001b[0me\u001b[0m\u001b[0;34m.\u001b[0m\u001b[0mdoc\u001b[0m\u001b[0;34m,\u001b[0m \u001b[0me\u001b[0m\u001b[0;34m.\u001b[0m\u001b[0mpos\u001b[0m\u001b[0;34m)\u001b[0m\u001b[0;34m\u001b[0m\u001b[0;34m\u001b[0m\u001b[0m\n\u001b[0m\u001b[1;32m    979\u001b[0m \u001b[0;34m\u001b[0m\u001b[0m\n\u001b[1;32m    980\u001b[0m     \u001b[0;34m@\u001b[0m\u001b[0mproperty\u001b[0m\u001b[0;34m\u001b[0m\u001b[0;34m\u001b[0m\u001b[0m\n",
      "\u001b[0;31mJSONDecodeError\u001b[0m: Expecting value: line 1 column 1 (char 0)"
     ]
    }
   ],
   "source": [
    "df_all = pd.DataFrame()\n",
    "for m in periods_list:\n",
    "    dr = requests.get(f'https://bank.gov.ua/NBUStatService/v1/statdirectory/deposit?date={m}&json')\n",
    "    dr = pd.DataFrame(dr.json())\n",
    "    df_all = pd.concat([df_all, dr])\n",
    "    print(m)\n",
    "    time.sleep(1)\n",
    "df_all.to_csv('./raw data/deposits.csv', index=False)"
   ]
  },
  {
   "cell_type": "code",
   "execution_count": null,
   "metadata": {},
   "outputs": [],
   "source": [
    "# donwload raw data\n",
    "\n",
    "deposits_downloaded = pd.read_csv('./raw data/deposits.csv')\n",
    "\n",
    "periods_list = list(set(periods_list) - set(deposits_downloaded['dt'].astype(str).drop_duplicates()))\n",
    "\n",
    "print(f\"Absent periods - {len(periods_list)}\")\n",
    "\n",
    "if len(periods_list) >0:\n",
    "    df_all = pd.DataFrame()\n",
    "    for m in periods_list:\n",
    "        dr = requests.get(f'https://bank.gov.ua/NBUStatService/v1/statdirectory/deposit?date={m}&json')\n",
    "        dr = pd.DataFrame(dr.json())\n",
    "        df_all = pd.concat([df_all, dr])\n",
    "        print(m)\n",
    "        time.sleep(3)\n",
    "    df_all = pd.concat([df_all, deposits_downloaded])\n",
    "    df_all.to_csv('./raw data/deposits.csv', index=False)"
   ]
  },
  {
   "cell_type": "code",
   "execution_count": null,
   "metadata": {},
   "outputs": [],
   "source": [
    "# donwload aggregated data\n",
    "\n",
    "pd.pivot_table(deposits_downloaded, index='dt', columns='txt', values='value', aggfunc='sum').reset_index().to_csv('./agg data/deposits_agg.csv')"
   ]
  },
  {
   "cell_type": "markdown",
   "metadata": {},
   "source": [
    "## 9. Цінні папери, акції та інші форми участі в капіталі в портфелі депозитних корпорацій (крім Національного банку України), та цінні папери, крім акцій, випущені депозитними корпораціями (крім Національного банку України)"
   ]
  },
  {
   "cell_type": "code",
   "execution_count": 33,
   "metadata": {},
   "outputs": [],
   "source": [
    "# generate range of dates for api process\n",
    "\n",
    "start_date = pd.Timestamp('20160901')\n",
    "today = pd.Timestamp.today()\n",
    "\n",
    "month_diff = (today.year - start_date.year) * 12 + today.month - start_date.month\n",
    "periods_list = pd.date_range(start='20160901', periods=month_diff, freq='MS').strftime('%Y%m%d').tolist()"
   ]
  },
  {
   "cell_type": "code",
   "execution_count": 35,
   "metadata": {},
   "outputs": [
    {
     "name": "stdout",
     "output_type": "stream",
     "text": [
      "Absent periods - 0\n"
     ]
    }
   ],
   "source": [
    "# donwload raw data\n",
    "\n",
    "secr_downloaded = pd.read_csv('./raw data/secr.csv')\n",
    "\n",
    "periods_list = list(set(periods_list) - set(secr_downloaded['dt'].astype(str).drop_duplicates()))\n",
    "\n",
    "print(f\"Absent periods - {len(periods_list)}\")\n",
    "\n",
    "if len(periods_list) >0:\n",
    "    df_all = pd.DataFrame()\n",
    "    for m in periods_list:\n",
    "        dr = requests.get(f'https://bank.gov.ua/NBUStatService/v1/statdirectory/securities?date={m}&json')\n",
    "        dr = pd.DataFrame(dr.json())\n",
    "        df_all = pd.concat([df_all, dr])\n",
    "        print(m)\n",
    "        time.sleep(3)\n",
    "    df_all = pd.concat([df_all, secr_downloaded])\n",
    "    df_all.to_csv('./raw data/secr.csv', index=False)"
   ]
  },
  {
   "cell_type": "code",
   "execution_count": 36,
   "metadata": {},
   "outputs": [],
   "source": [
    "# donwload aggregated data\n",
    "\n",
    "pd.pivot_table(secr_downloaded, index='dt', columns='txt', values='value', aggfunc='sum').reset_index().to_csv('./agg data/secr_agg.csv')"
   ]
  },
  {
   "cell_type": "markdown",
   "metadata": {},
   "source": [
    "## 10. Процентні ставки депозитних корпорацій (крім Національного банку України) за новими кредитами та новими депозитами"
   ]
  },
  {
   "cell_type": "code",
   "execution_count": 28,
   "metadata": {},
   "outputs": [],
   "source": [
    "# generate range of dates for api process\n",
    "\n",
    "start_date = pd.Timestamp('20160901')\n",
    "today = pd.Timestamp.today()\n",
    "\n",
    "month_diff = (today.year - start_date.year) * 12 + today.month - start_date.month\n",
    "periods_list = pd.date_range(start='20160901', periods=month_diff, freq='MS').strftime('%Y%m%d').tolist()"
   ]
  },
  {
   "cell_type": "code",
   "execution_count": 30,
   "metadata": {},
   "outputs": [
    {
     "name": "stdout",
     "output_type": "stream",
     "text": [
      "Absent periods - 0\n"
     ]
    }
   ],
   "source": [
    "# donwload raw data\n",
    "\n",
    "dep_rates_downloaded = pd.read_csv('./raw data/dep_rates.csv')\n",
    "\n",
    "periods_list = list(set(periods_list) - set(dep_rates_downloaded['dt'].astype(str).drop_duplicates()))\n",
    "\n",
    "print(f\"Absent periods - {len(periods_list)}\")\n",
    "\n",
    "if len(periods_list) >0:\n",
    "    df_all = pd.DataFrame()\n",
    "    for m in periods_list:\n",
    "        dr = requests.get(f'https://bank.gov.ua/NBUStatService/v1/statdirectory/mir?date={m}&json')\n",
    "        dr = pd.DataFrame(dr.json())\n",
    "        df_all = pd.concat([df_all, dr])\n",
    "        print(m)\n",
    "        time.sleep(3)\n",
    "    df_all = pd.concat([df_all, dep_rates_downloaded])\n",
    "    df_all.to_csv('./raw data/dep_rates.csv', index=False)"
   ]
  },
  {
   "cell_type": "code",
   "execution_count": 31,
   "metadata": {},
   "outputs": [],
   "source": [
    "# donwload aggregated data\n",
    "\n",
    "pd.pivot_table(dep_rates_downloaded, index='dt', columns='txt', values='value', aggfunc='sum').reset_index().to_csv('./agg data/dept_rates_agg.csv')"
   ]
  },
  {
   "cell_type": "markdown",
   "metadata": {},
   "source": [
    "## 11. Доходи та витрати банків"
   ]
  },
  {
   "cell_type": "code",
   "execution_count": 23,
   "metadata": {},
   "outputs": [],
   "source": [
    "# generate range of dates for api process\n",
    "\n",
    "start_date = pd.Timestamp('20090201')\n",
    "today = pd.Timestamp.today()\n",
    "\n",
    "month_diff = (today.year - start_date.year) * 12 + today.month - start_date.month\n",
    "periods_list = pd.date_range(start='20090201', periods=month_diff, freq='MS').strftime('%Y%m%d').tolist()"
   ]
  },
  {
   "cell_type": "code",
   "execution_count": 25,
   "metadata": {},
   "outputs": [
    {
     "name": "stdout",
     "output_type": "stream",
     "text": [
      "Absent periods - 0\n"
     ]
    }
   ],
   "source": [
    "# donwload raw data\n",
    "\n",
    "rev_downloaded = pd.read_csv('./raw data/banks_rev.csv')\n",
    "\n",
    "periods_list = list(set(periods_list) - set(rev_downloaded['dt'].astype(str).drop_duplicates()))\n",
    "\n",
    "print(f\"Absent periods - {len(periods_list)}\")\n",
    "\n",
    "if len(periods_list) >0:\n",
    "    df_all = pd.DataFrame()\n",
    "    for m in periods_list:\n",
    "        rev = requests.get(f'https://bank.gov.ua/NBUStatService/v1/statdirectory/banksincexp?date={m}&period=m&json')\n",
    "        df_rev = pd.DataFrame(rev.json())\n",
    "        df_all = pd.concat([df_all, df_rev])\n",
    "        print(m)\n",
    "        time.sleep(3)\n",
    "    df_all = pd.concat([df_all, rev_downloaded])\n",
    "    df_all.to_csv('./raw data/banks_rev.csv', index=False)"
   ]
  },
  {
   "cell_type": "code",
   "execution_count": 27,
   "metadata": {},
   "outputs": [],
   "source": [
    "# donwload aggregated data\n",
    "\n",
    "pd.pivot_table(rev_downloaded, index='dt', columns='txt', values='value', aggfunc='sum').reset_index().to_csv('./agg data/banks_rev_agg.csv')"
   ]
  },
  {
   "cell_type": "markdown",
   "metadata": {},
   "source": [
    "## 12. Основні показники діяльності банків України"
   ]
  },
  {
   "cell_type": "code",
   "execution_count": 14,
   "metadata": {},
   "outputs": [],
   "source": [
    "# generate range of dates for api process\n",
    "\n",
    "start_date = pd.Timestamp('20160101')\n",
    "today = pd.Timestamp.today()\n",
    "\n",
    "month_diff = (today.year - start_date.year) * 12 + today.month - start_date.month\n",
    "periods_list = pd.date_range(start='20160101', periods=month_diff, freq='MS').strftime('%Y%m%d').tolist()"
   ]
  },
  {
   "cell_type": "code",
   "execution_count": 21,
   "metadata": {},
   "outputs": [
    {
     "name": "stdout",
     "output_type": "stream",
     "text": [
      "Absent periods - 0\n"
     ]
    }
   ],
   "source": [
    "# donwload raw data\n",
    "\n",
    "mm_downloaded = pd.read_csv('./raw data/main_metrics.csv')\n",
    "\n",
    "periods_list = list(set(periods_list) - set(mm_downloaded['dt'].astype(str).drop_duplicates()))\n",
    "\n",
    "print(f\"Absent periods - {len(periods_list)}\")\n",
    "\n",
    "if len(periods_list) >0:\n",
    "    df_all = pd.DataFrame()\n",
    "    for m in periods_list:\n",
    "        mm = requests.get(f'https://bank.gov.ua/NBUStatService/v1/statdirectory/basindbank?date={m}&period=m&json')\n",
    "        df_mm = pd.DataFrame(mm.json())\n",
    "        df_all = pd.concat([df_all, df_mm])\n",
    "        print(m)\n",
    "        time.sleep(3)\n",
    "    df_all = pd.concat([df_all, mm_downloaded])\n",
    "    df_all.to_csv('./raw data/main_metrics.csv', index=False)"
   ]
  },
  {
   "cell_type": "code",
   "execution_count": 22,
   "metadata": {},
   "outputs": [],
   "source": [
    "# donwload aggregated data\n",
    "\n",
    "pd.pivot_table(mm_downloaded, index='dt', columns='txt', values='value', aggfunc='sum').reset_index().to_csv('./agg data/main_metrics_agg.csv')"
   ]
  },
  {
   "cell_type": "markdown",
   "metadata": {},
   "source": [
    "## 13. Дані фінансової звітності/згруповані балансові залишки банків України"
   ]
  },
  {
   "cell_type": "code",
   "execution_count": 2,
   "metadata": {},
   "outputs": [],
   "source": [
    "# generate range of dates for api process\n",
    "\n",
    "start_date = pd.Timestamp('20180201')\n",
    "today = pd.Timestamp.today()\n",
    "\n",
    "month_diff = (today.year - start_date.year) * 12 + today.month - start_date.month\n",
    "periods_list = pd.date_range(start='20180201', periods=month_diff, freq='MS').strftime('%Y%m%d').tolist()"
   ]
  },
  {
   "cell_type": "code",
   "execution_count": 3,
   "metadata": {},
   "outputs": [
    {
     "name": "stdout",
     "output_type": "stream",
     "text": [
      "Absent periods - 0\n"
     ]
    }
   ],
   "source": [
    "# donwload raw data\n",
    "\n",
    "balances_downloaded = pd.read_csv('./raw data/balances.csv')\n",
    "\n",
    "periods_list = list(set(periods_list) - set(balances_downloaded['dt'].astype(str).drop_duplicates()))\n",
    "\n",
    "print(f\"Absent periods - {len(periods_list)}\")\n",
    "\n",
    "if len(periods_list) >0:\n",
    "    df_all = pd.DataFrame()\n",
    "    for m in periods_list:\n",
    "        balances = requests.get(f'https://bank.gov.ua/NBUStatService/v1/statdirectory/banksfinrep?date={m}&period=m&json')\n",
    "        df_balances = pd.DataFrame(balances.json())\n",
    "        df_all = pd.concat([df_all, df_balances])\n",
    "        print(m)\n",
    "        time.sleep(3)\n",
    "    df_all = pd.concat([df_all, balances_downloaded])\n",
    "    df_all.to_csv('./raw data/balances.csv', index=False)"
   ]
  },
  {
   "cell_type": "code",
   "execution_count": 4,
   "metadata": {},
   "outputs": [],
   "source": [
    "# donwload aggregated data\n",
    "\n",
    "pd.pivot_table(balances_downloaded, index='dt', columns='txt', values='value', aggfunc='sum').reset_index().to_csv('./agg data/balances_agg.csv')"
   ]
  },
  {
   "cell_type": "markdown",
   "metadata": {},
   "source": [
    "## 19. Макроекономічні показники. (Базовий індекс споживчих цін)"
   ]
  },
  {
   "cell_type": "code",
   "execution_count": 2,
   "metadata": {},
   "outputs": [],
   "source": [
    "# generate range of dates for api process\n",
    "\n",
    "start_date = pd.Timestamp('20100201')\n",
    "today = pd.Timestamp.today()\n",
    "\n",
    "month_diff = (today.year - start_date.year) * 12 + today.month - start_date.month\n",
    "periods_list = pd.date_range(start='20100201', periods=month_diff, freq='MS').strftime('%Y%m%d').tolist()"
   ]
  },
  {
   "cell_type": "code",
   "execution_count": 5,
   "metadata": {},
   "outputs": [
    {
     "name": "stdout",
     "output_type": "stream",
     "text": [
      "Absent periods - 0\n"
     ]
    }
   ],
   "source": [
    "# donwload raw data\n",
    "\n",
    "base_cpi_downloaded = pd.read_csv('./raw data/base_cpi.csv')\n",
    "\n",
    "periods_list = list(set(periods_list) - set(base_cpi_downloaded['dt'].astype(str).drop_duplicates()))\n",
    "\n",
    "print(f\"Absent periods - {len(periods_list)}\")\n",
    "\n",
    "if len(periods_list) >0:\n",
    "    df_all = pd.DataFrame()\n",
    "    for m in periods_list:\n",
    "        balances = requests.get(f'https://bank.gov.ua/NBUStatService/v1/statdirectory/inflation?period=m&date={m}&json')\n",
    "        df_balances = pd.DataFrame(balances.json())\n",
    "        df_all = pd.concat([df_all, df_balances])\n",
    "        print(m)\n",
    "        time.sleep(3)\n",
    "    df_all = pd.concat([df_all, base_cpi_downloaded])\n",
    "    df_all.to_csv('./raw data/base_cpi.csv', index=False)"
   ]
  },
  {
   "cell_type": "markdown",
   "metadata": {},
   "source": [
    "## 19. Макроекономічні показники. (Економічна активність)"
   ]
  },
  {
   "cell_type": "code",
   "execution_count": 13,
   "metadata": {},
   "outputs": [],
   "source": [
    "# generate range of dates for api process\n",
    "\n",
    "start_date = pd.Timestamp('20100201')\n",
    "today = pd.Timestamp.today()\n",
    "\n",
    "month_diff = (today.year - start_date.year) * 12 + today.month - start_date.month\n",
    "periods_list = pd.date_range(start='20100201', periods=month_diff, freq='MS').strftime('%Y%m%d').tolist()"
   ]
  },
  {
   "cell_type": "code",
   "execution_count": 18,
   "metadata": {},
   "outputs": [
    {
     "name": "stdout",
     "output_type": "stream",
     "text": [
      "20100201\n",
      "20100301\n",
      "20100401\n",
      "20100501\n",
      "20100601\n",
      "20100701\n",
      "20100801\n",
      "20100901\n",
      "20101001\n",
      "20101101\n",
      "20101201\n",
      "20110101\n",
      "20110201\n",
      "20110301\n",
      "20110401\n",
      "20110501\n",
      "20110601\n",
      "20110701\n",
      "20110801\n",
      "20110901\n",
      "20111001\n",
      "20111101\n",
      "20111201\n",
      "20120101\n",
      "20120201\n",
      "20120301\n",
      "20120401\n",
      "20120501\n",
      "20120601\n",
      "20120701\n",
      "20120801\n",
      "20120901\n",
      "20121001\n",
      "20121101\n",
      "20121201\n",
      "20130101\n",
      "20130201\n",
      "20130301\n",
      "20130401\n",
      "20130501\n",
      "20130601\n",
      "20130701\n",
      "20130801\n",
      "20130901\n",
      "20131001\n",
      "20131101\n",
      "20131201\n",
      "20140101\n",
      "20140201\n",
      "20140301\n",
      "20140401\n",
      "20140501\n",
      "20140601\n",
      "20140701\n",
      "20140801\n",
      "20140901\n",
      "20141001\n",
      "20141101\n",
      "20141201\n",
      "20150101\n",
      "20150201\n",
      "20150301\n",
      "20150401\n",
      "20150501\n",
      "20150601\n",
      "20150701\n",
      "20150801\n",
      "20150901\n",
      "20151001\n",
      "20151101\n",
      "20151201\n",
      "20160101\n",
      "20160201\n",
      "20160301\n",
      "20160401\n",
      "20160501\n",
      "20160601\n",
      "20160701\n",
      "20160801\n",
      "20160901\n",
      "20161001\n",
      "20161101\n",
      "20161201\n",
      "20170101\n",
      "20170201\n",
      "20170301\n",
      "20170401\n",
      "20170501\n",
      "20170601\n",
      "20170701\n",
      "20170801\n",
      "20170901\n",
      "20171001\n",
      "20171101\n",
      "20171201\n",
      "20180101\n",
      "20180201\n",
      "20180301\n",
      "20180401\n",
      "20180501\n",
      "20180601\n",
      "20180701\n",
      "20180801\n",
      "20180901\n",
      "20181001\n",
      "20181101\n",
      "20181201\n",
      "20190101\n",
      "20190201\n",
      "20190301\n",
      "20190401\n",
      "20190501\n",
      "20190601\n",
      "20190701\n",
      "20190801\n",
      "20190901\n",
      "20191001\n",
      "20191101\n",
      "20191201\n",
      "20200101\n",
      "20200201\n",
      "20200301\n",
      "20200401\n",
      "20200501\n",
      "20200601\n",
      "20200701\n",
      "20200801\n",
      "20200901\n",
      "20201001\n",
      "20201101\n",
      "20201201\n",
      "20210101\n",
      "20210201\n",
      "20210301\n",
      "20210401\n",
      "20210501\n",
      "20210601\n",
      "20210701\n",
      "20210801\n",
      "20210901\n",
      "20211001\n",
      "20211101\n",
      "20211201\n",
      "20220101\n",
      "20220201\n",
      "20220301\n",
      "20220401\n",
      "20220501\n",
      "20220601\n",
      "20220701\n",
      "20220801\n",
      "20220901\n",
      "20221001\n",
      "20221101\n",
      "20221201\n",
      "20230101\n",
      "20230201\n",
      "20230301\n",
      "20230401\n",
      "20230501\n",
      "20230601\n",
      "20230701\n",
      "20230801\n",
      "20230901\n",
      "20231001\n",
      "20231101\n",
      "20231201\n",
      "20240101\n",
      "20240201\n",
      "20240301\n",
      "20240401\n",
      "20240801\n",
      "20240901\n"
     ]
    }
   ],
   "source": [
    "df_all = pd.DataFrame()\n",
    "for m in periods_list:\n",
    "    try:\n",
    "        balances = requests.get(f'https://bank.gov.ua/NBUStatService/v1/statdirectory/economicactivity?period=m&date={m}&json')\n",
    "        df_balances = pd.DataFrame(balances.json())\n",
    "        df_all = pd.concat([df_all, df_balances])\n",
    "        print(m)\n",
    "        time.sleep(1)\n",
    "    except:\n",
    "        pass\n",
    "df_all.to_csv('./raw data/economic_activity.csv', index=False)"
   ]
  },
  {
   "cell_type": "code",
   "execution_count": null,
   "metadata": {},
   "outputs": [],
   "source": [
    "# donwload raw data\n",
    "\n",
    "economic_activity_downloaded = pd.read_csv('./raw data/base_cpi.csv')\n",
    "\n",
    "periods_list = list(set(periods_list) - set(economic_activity_downloaded['dt'].astype(str).drop_duplicates()))\n",
    "\n",
    "print(f\"Absent periods - {len(periods_list)}\")\n",
    "\n",
    "if len(periods_list) >0:\n",
    "    df_all = pd.DataFrame()\n",
    "    for m in periods_list:\n",
    "        balances = requests.get(f'https://bank.gov.ua/NBUStatService/v1/statdirectory/economicactivity?period=m&date={m}&json')\n",
    "        df_balances = pd.DataFrame(balances.json())\n",
    "        df_all = pd.concat([df_all, df_balances])\n",
    "        print(m)\n",
    "        time.sleep(3)\n",
    "    df_all = pd.concat([df_all, economic_activity_downloaded])\n",
    "    df_all.to_csv('./raw data/economic_activity.csv', index=False)"
   ]
  },
  {
   "cell_type": "markdown",
   "metadata": {},
   "source": [
    "## 19. Макроекономічні показники. (Ринок праці)"
   ]
  },
  {
   "cell_type": "code",
   "execution_count": 3,
   "metadata": {},
   "outputs": [],
   "source": [
    "# generate range of dates for api process\n",
    "\n",
    "start_date = pd.Timestamp('20030201')\n",
    "today = pd.Timestamp.today()\n",
    "\n",
    "month_diff = (today.year - start_date.year) * 12 + today.month - start_date.month\n",
    "periods_list = pd.date_range(start='20030201', periods=month_diff, freq='MS').strftime('%Y%m%d').tolist()"
   ]
  },
  {
   "cell_type": "code",
   "execution_count": 4,
   "metadata": {},
   "outputs": [
    {
     "name": "stdout",
     "output_type": "stream",
     "text": [
      "20030201\n",
      "20030301\n",
      "20030401\n",
      "20030501\n",
      "20030601\n",
      "20030701\n",
      "20030801\n",
      "20030901\n",
      "20031001\n",
      "20031101\n",
      "20031201\n",
      "20040101\n",
      "20040201\n",
      "20040301\n",
      "20040401\n",
      "20040501\n",
      "20040601\n",
      "20040701\n",
      "20040801\n",
      "20040901\n",
      "20041001\n",
      "20041101\n",
      "20041201\n",
      "20050101\n",
      "20050201\n",
      "20050301\n",
      "20050401\n",
      "20050501\n",
      "20050601\n",
      "20050701\n",
      "20050801\n",
      "20050901\n",
      "20051001\n",
      "20051101\n",
      "20051201\n",
      "20060101\n",
      "20060201\n",
      "20060301\n",
      "20060401\n",
      "20060501\n",
      "20060601\n",
      "20060701\n",
      "20060801\n",
      "20060901\n",
      "20061001\n",
      "20061101\n",
      "20061201\n",
      "20070101\n",
      "20070201\n",
      "20070301\n",
      "20070401\n",
      "20070501\n",
      "20070601\n",
      "20070701\n",
      "20070801\n",
      "20070901\n",
      "20071001\n",
      "20071101\n",
      "20071201\n",
      "20080101\n",
      "20080201\n",
      "20080301\n",
      "20080401\n",
      "20080501\n",
      "20080601\n",
      "20080701\n",
      "20080801\n",
      "20080901\n",
      "20081001\n",
      "20081101\n",
      "20081201\n",
      "20090101\n",
      "20090201\n",
      "20090301\n",
      "20090401\n",
      "20090501\n",
      "20090601\n",
      "20090701\n",
      "20090801\n",
      "20090901\n",
      "20091001\n",
      "20091101\n",
      "20091201\n",
      "20100101\n",
      "20100201\n",
      "20100301\n",
      "20100401\n",
      "20100501\n",
      "20100601\n",
      "20100701\n",
      "20100801\n",
      "20100901\n",
      "20101001\n",
      "20101101\n",
      "20101201\n",
      "20110101\n",
      "20110201\n",
      "20110301\n",
      "20110401\n",
      "20110501\n",
      "20110601\n",
      "20110701\n",
      "20110801\n",
      "20110901\n",
      "20111001\n",
      "20111101\n",
      "20111201\n",
      "20120101\n",
      "20120201\n",
      "20120301\n",
      "20120401\n",
      "20120501\n",
      "20120601\n",
      "20120701\n",
      "20120801\n",
      "20120901\n",
      "20121001\n",
      "20121101\n",
      "20121201\n",
      "20130101\n",
      "20130201\n",
      "20130301\n",
      "20130401\n",
      "20130501\n",
      "20130601\n",
      "20130701\n",
      "20130801\n",
      "20130901\n",
      "20131001\n",
      "20131101\n",
      "20131201\n",
      "20140101\n",
      "20140201\n",
      "20140301\n",
      "20140401\n",
      "20140501\n",
      "20140601\n",
      "20140701\n",
      "20140801\n",
      "20140901\n",
      "20141001\n",
      "20141101\n",
      "20141201\n",
      "20150101\n",
      "20150201\n",
      "20150301\n",
      "20150401\n",
      "20150501\n",
      "20150601\n",
      "20150701\n",
      "20150801\n",
      "20150901\n",
      "20151001\n",
      "20151101\n",
      "20151201\n",
      "20160101\n",
      "20160201\n",
      "20160301\n",
      "20160401\n",
      "20160501\n",
      "20160601\n",
      "20160701\n",
      "20160801\n",
      "20160901\n",
      "20161001\n",
      "20161101\n",
      "20161201\n",
      "20170101\n",
      "20170201\n",
      "20170301\n",
      "20170401\n",
      "20170501\n",
      "20170601\n",
      "20170701\n",
      "20170801\n",
      "20170901\n",
      "20171001\n",
      "20171101\n",
      "20171201\n",
      "20180101\n",
      "20180201\n",
      "20180301\n",
      "20180401\n",
      "20180501\n",
      "20180601\n",
      "20180701\n",
      "20180801\n",
      "20180901\n",
      "20181001\n",
      "20181101\n",
      "20181201\n",
      "20190101\n",
      "20190201\n",
      "20190301\n",
      "20190401\n",
      "20190501\n",
      "20190601\n",
      "20190701\n",
      "20190801\n",
      "20190901\n",
      "20191001\n",
      "20191101\n",
      "20191201\n",
      "20200101\n",
      "20200201\n",
      "20200301\n",
      "20200401\n",
      "20200501\n",
      "20200601\n",
      "20200701\n",
      "20200801\n",
      "20200901\n",
      "20201001\n",
      "20201101\n",
      "20201201\n",
      "20210101\n",
      "20210201\n",
      "20210301\n",
      "20210401\n",
      "20210501\n",
      "20210601\n"
     ]
    }
   ],
   "source": [
    "df_all = pd.DataFrame()\n",
    "for m in periods_list:\n",
    "    try:\n",
    "        balances = requests.get(f'https://bank.gov.ua/NBUStatService/v1/statdirectory/labormarket?period=m&date={m}&json')\n",
    "        df_balances = pd.DataFrame(balances.json())\n",
    "        df_all = pd.concat([df_all, df_balances])\n",
    "        print(m)\n",
    "        time.sleep(1)\n",
    "    except:\n",
    "        pass\n",
    "df_all.to_csv('./raw data/labor_market.csv', index=False)"
   ]
  },
  {
   "cell_type": "code",
   "execution_count": null,
   "metadata": {},
   "outputs": [],
   "source": [
    "# donwload raw data\n",
    "\n",
    "labor_market_downloaded = pd.read_csv('./raw data/base_cpi.csv')\n",
    "\n",
    "periods_list = list(set(periods_list) - set(labor_market_downloaded['dt'].astype(str).drop_duplicates()))\n",
    "\n",
    "print(f\"Absent periods - {len(periods_list)}\")\n",
    "\n",
    "if len(periods_list) >0:\n",
    "    df_all = pd.DataFrame()\n",
    "    for m in periods_list:\n",
    "        balances = requests.get(f'https://bank.gov.ua/NBUStatService/v1/statdirectory/labormarket?period=m&date={m}&json')\n",
    "        df_balances = pd.DataFrame(balances.json())\n",
    "        df_all = pd.concat([df_all, df_balances])\n",
    "        print(m)\n",
    "        time.sleep(3)\n",
    "    df_all = pd.concat([df_all, labor_market_downloaded])\n",
    "    df_all.to_csv('./raw data/labor_market.csv', index=False)"
   ]
  },
  {
   "cell_type": "markdown",
   "metadata": {},
   "source": [
    "## 19. Макроекономічні показники. (Державні фінанси)"
   ]
  },
  {
   "cell_type": "code",
   "execution_count": null,
   "metadata": {},
   "outputs": [],
   "source": [
    "# generate range of dates for api process\n",
    "\n",
    "start_date = pd.Timestamp('20110201')\n",
    "today = pd.Timestamp.today()\n",
    "\n",
    "month_diff = (today.year - start_date.year) * 12 + today.month - start_date.month\n",
    "periods_list = pd.date_range(start='20110201', periods=month_diff, freq='MS').strftime('%Y%m%d').tolist()"
   ]
  },
  {
   "cell_type": "code",
   "execution_count": null,
   "metadata": {},
   "outputs": [],
   "source": [
    "df_all = pd.DataFrame()\n",
    "for m in periods_list:\n",
    "    try:\n",
    "        balances = requests.get(f'https://bank.gov.ua/NBUStatService/v1/statdirectory/budget?period=m&date={m}&json')\n",
    "        df_balances = pd.DataFrame(balances.json())\n",
    "        df_all = pd.concat([df_all, df_balances])\n",
    "        print(m)\n",
    "        time.sleep(1)\n",
    "    except:\n",
    "        pass\n",
    "df_all.to_csv('./raw data/gov_finance.csv', index=False)"
   ]
  },
  {
   "cell_type": "code",
   "execution_count": null,
   "metadata": {},
   "outputs": [],
   "source": [
    "# donwload raw data\n",
    "\n",
    "gov_finance_downloaded = pd.read_csv('./raw data/base_cpi.csv')\n",
    "\n",
    "periods_list = list(set(periods_list) - set(gov_finance_downloaded['dt'].astype(str).drop_duplicates()))\n",
    "\n",
    "print(f\"Absent periods - {len(periods_list)}\")\n",
    "\n",
    "if len(periods_list) >0:\n",
    "    df_all = pd.DataFrame()\n",
    "    for m in periods_list:\n",
    "        balances = requests.get(f'https://bank.gov.ua/NBUStatService/v1/statdirectory/budget?period=m&date={m}&json')\n",
    "        df_balances = pd.DataFrame(balances.json())\n",
    "        df_all = pd.concat([df_all, df_balances])\n",
    "        print(m)\n",
    "        time.sleep(3)\n",
    "    df_all = pd.concat([df_all, gov_finance_downloaded])\n",
    "    df_all.to_csv('./raw data/gov_finance.csv', index=False)"
   ]
  }
 ],
 "metadata": {
  "kernelspec": {
   "display_name": "Python 3",
   "language": "python",
   "name": "python3"
  },
  "language_info": {
   "codemirror_mode": {
    "name": "ipython",
    "version": 3
   },
   "file_extension": ".py",
   "mimetype": "text/x-python",
   "name": "python",
   "nbconvert_exporter": "python",
   "pygments_lexer": "ipython3",
   "version": "3.8.5"
  }
 },
 "nbformat": 4,
 "nbformat_minor": 2
}
